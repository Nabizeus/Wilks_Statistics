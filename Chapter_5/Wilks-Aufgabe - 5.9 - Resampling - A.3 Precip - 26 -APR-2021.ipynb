{
 "cells": [
  {
   "cell_type": "code",
   "execution_count": 3,
   "metadata": {},
   "outputs": [],
   "source": [
    "import numpy as np\n",
    "import matplotlib.pyplot as plt\n",
    "from scipy import stats\n",
    "from scipy.stats import norm\n",
    "from scipy import special\n",
    "import pandas as pd"
   ]
  },
  {
   "cell_type": "code",
   "execution_count": 23,
   "metadata": {},
   "outputs": [],
   "source": [
    "def lambda_2(vector):\n",
    "\n",
    "    sum_i=np.zeros(vector.size,dtype=float)\n",
    "\n",
    "    diff=np.zeros(vector.size,dtype=float)\n",
    "    for i in range(vector.size-2):\n",
    "       # print('Start i sum_i',sum_i)\n",
    "       # print('i:',i)\n",
    "       # print('vector[i]',vector[i])\n",
    "        diff=np.zeros(vector.size,dtype=float)\n",
    "    \n",
    "        for j in range(i+1,vector.size):\n",
    "          #  print('j',j)\n",
    "          #  print('seed[j]',vector[j])\n",
    "            diff[j-1]=abs(vector[i]-vector[j])\n",
    "            #print('diff',diff)\n",
    "        \n",
    "        sum_i[i] = np.sum(diff)\n",
    "       # print('End j sum_i',sum_i)\n",
    "    \n",
    "   # print(sum_i)\n",
    "    \n",
    "    lambda_vec = np.math.factorial(vector.size-2)/np.math.factorial(vector.size)*np.sum(sum_i)\n",
    "\n",
    "   # print('vector:', vector)\n",
    "   # print('Lambda 2 Hoskins 1990 for this vector:',lambda_vec)\n",
    "\n",
    "    return lambda_vec\n"
   ]
  },
  {
   "cell_type": "code",
   "execution_count": 5,
   "metadata": {},
   "outputs": [
    {
     "name": "stdout",
     "output_type": "stream",
     "text": [
      "Seed: 7.6893939393939394\n",
      "Unseed: 39.11818181818182\n",
      "L scale: lambda_seed/lambda_unseed: 0.19656828569215276\n"
     ]
    }
   ],
   "source": [
    "# Example 5.9 Two-Sample Permutation Test for a Complicated Sample Statistic\n",
    "\n",
    "# Table 5.5\n",
    "# Dispersion by L-scale (Hosking 1990)\n",
    "# lambda_2 = (n1-2)!/n1! Sum(i..n1-1) Sum(j=i+1..n1) |xi-xj|\n",
    "#  Seeded & Unseeded from Table 5.5\n",
    "\n",
    "seed = np.array([49,4,18,26,29,9,16,12,2,22,10,34])\n",
    "unseed = np.array([61,33,62,45,0,30,82,10,20,358,63])\n",
    "\n",
    "lambda_2_seed=lambda_2(seed)\n",
    "lambda_2_unseed=lambda_2(unseed)\n",
    "\n",
    "print('Seed:',lambda_2_seed)\n",
    "print('Unseed:',lambda_2_unseed)\n",
    "print('L scale: lambda_seed/lambda_unseed:',lambda_2_seed/lambda_2_unseed)"
   ]
  },
  {
   "cell_type": "code",
   "execution_count": 26,
   "metadata": {},
   "outputs": [
    {
     "name": "stdout",
     "output_type": "stream",
     "text": [
      "Pair of data to be bootstrapped with lambda2 ratio scale: [49  4 18 26 29  9 16 12  2 22 10 34]\n",
      "Pair of data to be bootstrapped with lambda2 ratio scale: [ 61  33  62  45   0  30  82  10  20 358  63]\n",
      "# of permutation: 1000000\n",
      "Mean of Bootstrap: 1.661434621945449\n",
      "2.55% percentile: 0.17166335135689584\n",
      "97.5% percentile: 5.964991842516853\n"
     ]
    },
    {
     "data": {
      "image/png": "[encoded data removed]",
      "text/plain": [
       "<Figure size 432x288 with 1 Axes>"
      ]
     },
     "metadata": {
      "needs_background": "light"
     },
     "output_type": "display_data"
    }
   ],
   "source": [
    "bootstrap_lambda_ratio(seed,unseed,1000000)"
   ]
  },
  {
   "cell_type": "code",
   "execution_count": null,
   "metadata": {},
   "outputs": [],
   "source": []
  },
  {
   "cell_type": "code",
   "execution_count": 47,
   "metadata": {},
   "outputs": [],
   "source": [
    "def bootstrap_lambda_ratio(data_1,data_2,perm):\n",
    "\n",
    "\n",
    "\n",
    "    print('Pair of data to be bootstrapped with lambda2 ratio scale:',data_1)\n",
    "    print('Pair of data to be bootstrapped with lambda2 ratio scale:',data_2)\n",
    "    print('# of permutation:',perm)\n",
    "\n",
    "\n",
    "    bootstrap_std =[]\n",
    "\n",
    "    for k in range(perm):\n",
    "            \n",
    "            data = np.concatenate([data_1,data_2])\n",
    "            \n",
    "            #print('data',data)\n",
    "            \n",
    "            #random_index_1 = (np.random.choice(data_1.size,data_1.size))\n",
    "            random_index = (np.random.choice(data.size,data.size))\n",
    "            #print('random_index',random_index)\n",
    "    \n",
    "            randomized_data = data[random_index]\n",
    "            #randomized_data_2 = data_2[random_index_2]\n",
    "            \n",
    "            #print('randomized_data',randomized_data)\n",
    "            \n",
    "            \n",
    "            randomized_data_1 = randomized_data[0:data_1.size]\n",
    "            randomized_data_2 = randomized_data[data_1.size+1:-1]\n",
    "           # print('randomized_data_1',randomized_data_1)\n",
    "           # print('randomized_data_2',randomized_data_2)\n",
    "            \n",
    "            \n",
    "            #print('randomized_data',randomized_data)\n",
    "            lambda_2_1 = lambda_2(randomized_data_1)\n",
    "            lambda_2_2 = lambda_2(randomized_data_2)\n",
    "            lambda_2_ratio = lambda_2_1 /lambda_2_2\n",
    "            bootstrap_std += [lambda_2_ratio]\n",
    " \n",
    "\n",
    "\n",
    "    print('Mean of Bootstrap:',np.mean(bootstrap_std))\n",
    "    print('Variance of Bootstrap:',np.var(bootstrap_std))\n",
    "    print('2.55% percentile:', np.percentile(bootstrap_std,2.5))\n",
    "    print('97.5% percentile:', np.percentile(bootstrap_std,97.5))\n",
    "    \n",
    "    plt.hist(bootstrap_std)\n",
    "\n",
    "    \n",
    "def bootstrap_lambda_compare(data_1,data_2,perm):\n",
    "\n",
    "\n",
    "\n",
    "    print('Pair of data to be bootstrapped and compared lambda2  scale:',data_1)\n",
    "    print('Pair of data to be bootstrapped and compared lambda2  scale:',data_2)\n",
    "    print('# of permutation:',perm)\n",
    "\n",
    "\n",
    "    bootstrap_1 =[]\n",
    "    bootstrap_2 =[]\n",
    "    for k in range(perm):\n",
    "            random_index_1 = (np.random.choice(data_1.size,data_1.size))\n",
    "            random_index_2 = (np.random.choice(data_2.size,data_2.size))\n",
    "    \n",
    "            randomized_data_1 = data_1[random_index_1]\n",
    "            randomized_data_2 = data_2[random_index_2]\n",
    "            \n",
    "        \n",
    "            lambda_2_1 = lambda_2(randomized_data_1)\n",
    "            lambda_2_2 = lambda_2(randomized_data_2)\n",
    "          \n",
    "            bootstrap_1 += [lambda_2_1]\n",
    "            bootstrap_2 += [lambda_2_2]\n",
    "\n",
    "\n",
    "    print('Mean of Lambda square Bootstrap Data 1:',np.mean(bootstrap_1))\n",
    "    print('Variance of Lambda square of Bootstrap Data 1:',np.var(bootstrap_1))\n",
    "    print('2.55% percentile:', np.percentile(bootstrap_1,2.5))\n",
    "    print('97.5% percentile:', np.percentile(bootstrap_1,97.5))\n",
    "    print('=====================================================')\n",
    "    \n",
    "    print('Mean of Lambda square Bootstrap Data 2:',np.mean(bootstrap_2))\n",
    "    print('Variance of Lambda square of Bootstrap Data 2:',np.var(bootstrap_2))\n",
    "    print('2.55% percentile:', np.percentile(bootstrap_2,2.5))\n",
    "    print('97.5% percentile:', np.percentile(bootstrap_2,97.5))\n",
    "    print('=====================================================')\n",
    "    \n",
    "    \n",
    "    print('Z-score :',(np.mean(bootstrap_1)-np.mean(bootstrap_2))/np.sqrt(np.var(bootstrap_1)+np.var(bootstrap_2)))\n",
    "    print('Var 1 to Var2 :',1/np.sqrt(np.var(bootstrap_1)/np.var(bootstrap_2)))\n",
    "    \n",
    "    \n",
    "    \n",
    "    plt.hist(bootstrap_1,histtype='step',rwidth=2)\n",
    "    plt.hist(bootstrap_2,histtype='step',rwidth=2)\n",
    "    \n",
    "    \n"
   ]
  },
  {
   "cell_type": "code",
   "execution_count": 49,
   "metadata": {},
   "outputs": [
    {
     "name": "stdout",
     "output_type": "stream",
     "text": [
      "Pair of data to be bootstrapped and compared lambda2  scale: [49  4 18 26 29  9 16 12  2 22 10 34]\n",
      "Pair of data to be bootstrapped and compared lambda2  scale: [ 61  33  62  45   0  30  82  10  20 358  63]\n",
      "# of permutation: 100000\n",
      "Mean of Bootstrap Data 1: 7.119120984848486\n",
      "Variance of Bootstrap Data 1: 2.448663335482042\n",
      "2.55% percentile: 4.159090909090909\n",
      "97.5% percentile: 10.09848484848485\n",
      "=====================================================\n",
      "Mean of Bootstrap Data 2: 37.357133454545455\n",
      "Variance of Bootstrap Data 2: 415.29358135018975\n",
      "2.55% percentile: 10.372727272727273\n",
      "97.5% percentile: 77.65454545454546\n",
      "=====================================================\n",
      "Z-score : -1.4794457472511888\n",
      "Var 1 to Var2 : 13.023060861646908\n"
     ]
    },
    {
     "data": {
      "image/png": "[encoded data removed]",
      "text/plain": [
       "<Figure size 432x288 with 1 Axes>"
      ]
     },
     "metadata": {
      "needs_background": "light"
     },
     "output_type": "display_data"
    }
   ],
   "source": [
    "bootstrap_lambda_compare(seed,unseed,100000)"
   ]
  },
  {
   "cell_type": "code",
   "execution_count": 57,
   "metadata": {},
   "outputs": [
    {
     "name": "stdout",
     "output_type": "stream",
     "text": [
      "1900.0\n",
      "6.533333333333333\n",
      "290.81632653061223\n"
     ]
    }
   ],
   "source": [
    "# Aufgabe 5.9\n",
    "\n",
    "#Resampling of El Nino vs Non Elnino of precipitation of A3 of June Data.\n",
    "\n",
    "elnino = np.array([43,4,31,15,127])\n",
    "non_elnino = np.array([10,4,0,2,0,0,0,2,3,0,4,2,0,1,2])\n",
    "\n",
    "print(np.var(elnino))\n",
    "print(np.var(non_elnino))\n",
    "print(np.var(elnino)/np.var(non_elnino))"
   ]
  },
  {
   "cell_type": "code",
   "execution_count": 70,
   "metadata": {},
   "outputs": [],
   "source": [
    "def bootstrap_variance_ratio(data_1,data_2,perm):\n",
    "  \n",
    "    print('Pair of data to be bootstrapped with variance ratio scale:',data_1)\n",
    "    print('Pair of data to be bootstrapped with variance ratio scale:',data_2)\n",
    "    print('# of permutation:',perm)\n",
    "\n",
    "\n",
    "    bootstrap_std =[]\n",
    "\n",
    "    for k in range(perm):\n",
    "            \n",
    "            data = np.concatenate([data_1,data_2])\n",
    "            \n",
    "            #print('data',data)\n",
    "            \n",
    "            #random_index_1 = (np.random.choice(data_1.size,data_1.size))\n",
    "            random_index = (np.random.choice(data.size,data.size))\n",
    "            #print('random_index',random_index)\n",
    "    \n",
    "            randomized_data = data[random_index]\n",
    "            #randomized_data_2 = data_2[random_index_2]\n",
    "            \n",
    "            #print('randomized_data',randomized_data)\n",
    "            \n",
    "            \n",
    "            randomized_data_1 = randomized_data[0:data_1.size]\n",
    "            randomized_data_2 = randomized_data[data_1.size+1:-1]\n",
    "           # print('randomized_data_1',randomized_data_1)\n",
    "           # print('randomized_data_2',randomized_data_2)\n",
    "            \n",
    "            \n",
    "            #print('randomized_data',randomized_data)\n",
    "            var_1 = np.var(randomized_data_1)\n",
    "            var_2 = np.var(randomized_data_2)\n",
    "            var_ratio = var_1 /var_2\n",
    "            bootstrap_std += [var_ratio]\n",
    " \n",
    "\n",
    "\n",
    "    print('Mean of variance ratio Bootstrap:',np.mean(bootstrap_std))\n",
    "    print('Variance of variance ratio Bootstrap:',np.var(bootstrap_std))\n",
    "    print('2.55% percentile of variance ratio:', np.percentile(bootstrap_std,2.5))\n",
    "    print('97.5% percentile of variance ratio:', np.percentile(bootstrap_std,97.5))\n",
    "    \n",
    "    plt.hist(bootstrap_std,bins=bootstrap_std.size)\n",
    "\n",
    "    \n",
    "def bootstrap_variance_compare(data_1,data_2,perm):\n",
    "\n",
    "\n",
    "\n",
    "    print('Pair of data to be bootstrapped and compared variance  scale:',data_1)\n",
    "    print('Pair of data to be bootstrapped and compared variance  scale:',data_2)\n",
    "    print('# of permutation:',perm)\n",
    "\n",
    "\n",
    "    bootstrap_1 =[]\n",
    "    bootstrap_2 =[]\n",
    "    for k in range(perm):\n",
    "            random_index_1 = (np.random.choice(data_1.size,data_1.size))\n",
    "            random_index_2 = (np.random.choice(data_2.size,data_2.size))\n",
    "    \n",
    "            randomized_data_1 = data_1[random_index_1]\n",
    "            randomized_data_2 = data_2[random_index_2]\n",
    "            \n",
    "        \n",
    "            var_1 = np.var(randomized_data_1)\n",
    "            var_2 = np.var(randomized_data_2)\n",
    "          \n",
    "            bootstrap_1 += [var_1]\n",
    "            bootstrap_2 += [var_2]\n",
    "\n",
    "\n",
    "    print('Mean of Variance Bootstrap Data 1:',np.mean(bootstrap_1))\n",
    "    print('Variance of Variance of Bootstrap Data 1:',np.var(bootstrap_1))\n",
    "    print('2.55% percentile of variance of Data 1:', np.percentile(bootstrap_1,2.5))\n",
    "    print('97.5% percentile of variance Data 1:', np.percentile(bootstrap_1,97.5))\n",
    "    print('=====================================================')\n",
    "    \n",
    "    print('Mean of Variance Bootstrap Data 2:',np.mean(bootstrap_2))\n",
    "    print('Variance of Variance of Bootstrap Data 2:',np.var(bootstrap_2))\n",
    "    print('2.55% percentile of variance data 2:', np.percentile(bootstrap_2,2.5))\n",
    "    print('97.5% percentile of variance data 2:', np.percentile(bootstrap_2,97.5))\n",
    "    print('=====================================================')\n",
    "    \n",
    "    \n",
    "    print('Z-score :',(np.mean(bootstrap_1)-np.mean(bootstrap_2))/np.sqrt(np.var(bootstrap_1)+np.var(bootstrap_2)))\n",
    "    print('Var 1 to Var2 :',np.sqrt(np.var(bootstrap_1)/np.var(bootstrap_2)))\n",
    "    \n",
    "    \n",
    "    \n",
    "    plt.hist(bootstrap_1,histtype='step',rwidth=2)\n",
    "    plt.hist(bootstrap_2,histtype='step',rwidth=2)\n",
    "    "
   ]
  },
  {
   "cell_type": "code",
   "execution_count": 55,
   "metadata": {},
   "outputs": [
    {
     "name": "stdout",
     "output_type": "stream",
     "text": [
      "Pair of data to be bootstrapped and compared variance  scale: [ 43   4  31  15 127]\n",
      "Pair of data to be bootstrapped and compared variance  scale: [10  4  0  2  0  0  0  2  3  0  4  2  0  1  2]\n",
      "# of permutation: 1000000\n",
      "Mean of Variance Bootstrap Data 1: 1518.9873493599994\n",
      "Variance of Variance of Bootstrap Data 1: 1068227.26346912\n",
      "2.55% percentile of variance of Data 1: 61.44\n",
      "97.5% percentile of variance Data 1: 3227.0400000000004\n",
      "=====================================================\n",
      "Mean of Variance Bootstrap Data 2: 6.097468124444443\n",
      "Variance of Variance of Bootstrap Data 2: 14.238531238119755\n",
      "2.55% percentile of variance data 2: 1.1822222222222218\n",
      "97.5% percentile of variance data 2: 14.222222222222229\n",
      "=====================================================\n",
      "Z-score : 1.4637691668648343\n",
      "Var 1 to Var2 : 273.90454123987837\n"
     ]
    },
    {
     "data": {
      "image/png": "[encoded data removed]",
      "text/plain": [
       "<Figure size 432x288 with 1 Axes>"
      ]
     },
     "metadata": {
      "needs_background": "light"
     },
     "output_type": "display_data"
    }
   ],
   "source": [
    "bootstrap_variance_compare(elnino,non_elnino,1000000)"
   ]
  },
  {
   "cell_type": "code",
   "execution_count": 69,
   "metadata": {},
   "outputs": [
    {
     "name": "stdout",
     "output_type": "stream",
     "text": [
      "Pair of data to be bootstrapped with variance ratio scale: [ 43   4  31  15 127]\n",
      "Pair of data to be bootstrapped with variance ratio scale: [10  4  0  2  0  0  0  2  3  0  4  2  0  1  2]\n",
      "# of permutation: 1000000\n",
      "Mean of variance ratio Bootstrap: 14.69767422293926\n",
      "Variance of variance ratio Bootstrap: 10885.858717448093\n",
      "2.55% percentile of variance ratio: 0.0006943721199864298\n",
      "97.5% percentile of variance ratio: 114.4817273925633\n"
     ]
    },
    {
     "data": {
      "image/png": "[encoded data removed]",
      "text/plain": [
       "<Figure size 432x288 with 1 Axes>"
      ]
     },
     "metadata": {
      "needs_background": "light"
     },
     "output_type": "display_data"
    }
   ],
   "source": [
    "bootstrap_variance_ratio(elnino,non_elnino,1000000)"
   ]
  },
  {
   "cell_type": "code",
   "execution_count": 29,
   "metadata": {},
   "outputs": [
    {
     "name": "stdout",
     "output_type": "stream",
     "text": [
      "Pair of data to be bootstrapped and compared lambda2  scale: [ 43   4  31  15 127]\n",
      "Pair of data to be bootstrapped and compared lambda2  scale: [10  4  0  2  0  0  0  2  3  0  4  2  0  1  2]\n",
      "# of permutation: 10000\n",
      "Mean of Bootstrap Data 1: 19.740070000000003\n",
      "2.55% percentile: 3.6\n",
      "97.5% percentile: 35.25\n",
      "=====================================================\n",
      "Mean of Bootstrap Data 2: 1.2094833333333332\n",
      "2.55% percentile: 0.580952380952381\n",
      "97.5% percentile: 2.0190476190476194\n",
      "=====================================================\n"
     ]
    },
    {
     "data": {
      "image/png": "[encoded data removed]",
      "text/plain": [
       "<Figure size 432x288 with 1 Axes>"
      ]
     },
     "metadata": {
      "needs_background": "light"
     },
     "output_type": "display_data"
    }
   ],
   "source": [
    "bootstrap_lambda_compare(elnino,non_elnino,10000)"
   ]
  },
  {
   "cell_type": "code",
   "execution_count": 31,
   "metadata": {},
   "outputs": [
    {
     "name": "stdout",
     "output_type": "stream",
     "text": [
      "Pair of data to be bootstrapped with lambda2 ratio scale: [ 43   4  31  15 127]\n",
      "Pair of data to be bootstrapped with lambda2 ratio scale: [10  4  0  2  0  0  0  2  3  0  4  2  0  1  2]\n",
      "# of permutation: 10000\n",
      "Mean of Bootstrap: 1.7410672685513116\n",
      "2.55% percentile: 0.03344350271823129\n",
      "97.5% percentile: 10.291775\n"
     ]
    },
    {
     "data": {
      "image/png": "[encoded data removed]",
      "text/plain": [
       "<Figure size 432x288 with 1 Axes>"
      ]
     },
     "metadata": {
      "needs_background": "light"
     },
     "output_type": "display_data"
    }
   ],
   "source": [
    "\n",
    "bootstrap_lambda_ratio(elnino,non_elnino,10000)"
   ]
  },
  {
   "cell_type": "code",
   "execution_count": 90,
   "metadata": {},
   "outputs": [
    {
     "name": "stdout",
     "output_type": "stream",
     "text": [
      "16.76923076923077\n"
     ]
    }
   ],
   "source": [
    "\n",
    "lambda_2(non_elnino)\n",
    "print(lambda_2(elnino)/lambda_2(non_elnino))"
   ]
  },
  {
   "cell_type": "code",
   "execution_count": null,
   "metadata": {},
   "outputs": [],
   "source": [
    "# The bootstrap_lambda_ratio is wrong\n",
    "# First join the two batches\n",
    "# Make permutation\n",
    "# Separate the batches\n",
    "# Calculate lambdas and ratios\n",
    "# N-sample time...."
   ]
  },
  {
   "cell_type": "code",
   "execution_count": null,
   "metadata": {},
   "outputs": [],
   "source": [
    "#https://datasciencechalktalk.com/2019/11/12/bootstrap-sampling-an-implementation-with-python/"
   ]
  }
 ],
 "metadata": {
  "kernelspec": {
   "display_name": "Python 3",
   "language": "python",
   "name": "python3"
  },
  "language_info": {
   "codemirror_mode": {
    "name": "ipython",
    "version": 3
   },
   "file_extension": ".py",
   "mimetype": "text/x-python",
   "name": "python",
   "nbconvert_exporter": "python",
   "pygments_lexer": "ipython3",
   "version": "3.6.12"
  }
 },
 "nbformat": 4,
 "nbformat_minor": 4
}
