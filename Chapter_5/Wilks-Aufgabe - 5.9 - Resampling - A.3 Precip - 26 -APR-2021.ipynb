{
 "cells": [
  {
   "cell_type": "code",
   "execution_count": 1,
   "metadata": {},
   "outputs": [],
   "source": [
    "import numpy as np\n",
    "import matplotlib.pyplot as plt\n",
    "from scipy import stats\n",
    "from scipy.stats import norm\n",
    "from scipy import special\n",
    "import pandas as pd"
   ]
  },
  {
   "cell_type": "code",
   "execution_count": 77,
   "metadata": {},
   "outputs": [],
   "source": [
    "def lambda_2(vector):\n",
    "\n",
    "    sum_i=np.zeros(vector.size,dtype=float)\n",
    "\n",
    "    diff=np.zeros(vector.size,dtype=float)\n",
    "    for i in range(vector.size-2):\n",
    "        #print('Start i sum_i',sum_i)\n",
    "        #print('i:',i)\n",
    "        #print('vector[i]',vector[i])\n",
    "        diff=np.zeros(vector.size,dtype=float)\n",
    "    \n",
    "        for j in range(i+1,vector.size):\n",
    "            #print('j',j)\n",
    "            #print('seed[j]',vector[j])\n",
    "            diff[j-1]=abs(vector[i]-vector[j])\n",
    "            #print('diff',diff)\n",
    "        \n",
    "        sum_i[i] = np.sum(diff)\n",
    "        #print('End j sum_i',sum_i)\n",
    "    \n",
    "    #print(sum_i)\n",
    "    \n",
    "    lambda_vec = np.math.factorial(vector.size-2)/np.math.factorial(vector.size)*np.sum(sum_i)\n",
    "\n",
    "    #print('vector:', vector)\n",
    "    #print('Lambda 2 Hoskins 1990 for this vector:',lambda_vec)\n",
    "\n",
    "    return lambda_vec\n"
   ]
  },
  {
   "cell_type": "code",
   "execution_count": 78,
   "metadata": {},
   "outputs": [
    {
     "name": "stdout",
     "output_type": "stream",
     "text": [
      "Seed: 7.6893939393939394\n",
      "Unseed: 39.11818181818182\n",
      "L scale: lambda_seed/lambda_unseed: 0.19656828569215276\n"
     ]
    }
   ],
   "source": [
    "# Example 5.9 Two-Sample Permutation Test for a Complicated Sample Statistic\n",
    "\n",
    "# Table 5.5\n",
    "# Dispersion by L-scale (Hosking 1990)\n",
    "# lambda_2 = (n1-2)!/n1! Sum(i..n1-1) Sum(j=i+1..n1) |xi-xj|\n",
    "#  Seeded & Unseeded from Table 5.5\n",
    "\n",
    "seed = np.array([49,4,18,26,29,9,16,12,2,22,10,34])\n",
    "unseed = np.array([61,33,62,45,0,30,82,10,20,358,63])\n",
    "\n",
    "lambda_2_seed=lambda_2(seed)\n",
    "lambda_2_unseed=lambda_2(unseed)\n",
    "\n",
    "print('Seed:',lambda_2_seed)\n",
    "print('Unseed:',lambda_2_unseed)\n",
    "print('L scale: lambda_seed/lambda_unseed:',lambda_2_seed/lambda_2_unseed)"
   ]
  },
  {
   "cell_type": "code",
   "execution_count": 75,
   "metadata": {},
   "outputs": [],
   "source": [
    "def bootstrap_lambda_ratio(data_1,data_2,perm):\n",
    "\n",
    "\n",
    "\n",
    "    print('Pair of data to be bootstrapped with lambda2 ratio scale:',data_1)\n",
    "    print('Pair of data to be bootstrapped with lambda2 ratio scale:',data_2)\n",
    "    print('# of permutation:',perm)\n",
    "\n",
    "\n",
    "    bootstrap_std =[]\n",
    "\n",
    "    for k in range(perm):\n",
    "            random_index_1 = (np.random.choice(data_1.size,data_1.size))\n",
    "            random_index_2 = (np.random.choice(data_2.size,data_2.size))\n",
    "    \n",
    "            randomized_data_1 = data_1[random_index_1]\n",
    "            randomized_data_2 = data_2[random_index_2]\n",
    "            #print('randomized_data',randomized_data)\n",
    "            lambda_2_1 = lambda_2(randomized_data_1)\n",
    "            lambda_2_2 = lambda_2(randomized_data_2)\n",
    "            lambda_2_ratio = lambda_2_1 /lambda_2_2\n",
    "            bootstrap_std += [lambda_2_ratio]\n",
    " \n",
    "\n",
    "\n",
    "    print('Mean of Bootstrap:',np.mean(bootstrap_std))\n",
    "    print('2.55% percentile:', np.percentile(bootstrap_std,2.5))\n",
    "    print('97.5% percentile:', np.percentile(bootstrap_std,97.5))\n",
    "    \n",
    "    plt.hist(bootstrap_std)\n",
    "\n",
    "    \n",
    "def bootstrap_lambda_compare(data_1,data_2,perm):\n",
    "\n",
    "\n",
    "\n",
    "    print('Pair of data to be bootstrapped and compared lambda2  scale:',data_1)\n",
    "    print('Pair of data to be bootstrapped and compared lambda2  scale:',data_2)\n",
    "    print('# of permutation:',perm)\n",
    "\n",
    "\n",
    "    bootstrap_1 =[]\n",
    "    bootstrap_2 =[]\n",
    "    for k in range(perm):\n",
    "            random_index_1 = (np.random.choice(data_1.size,data_1.size))\n",
    "            random_index_2 = (np.random.choice(data_2.size,data_2.size))\n",
    "    \n",
    "            randomized_data_1 = data_1[random_index_1]\n",
    "            randomized_data_2 = data_2[random_index_2]\n",
    "            \n",
    "        \n",
    "            lambda_2_1 = lambda_2(randomized_data_1)\n",
    "            lambda_2_2 = lambda_2(randomized_data_2)\n",
    "          \n",
    "            bootstrap_1 += [lambda_2_1]\n",
    "            bootstrap_2 += [lambda_2_2]\n",
    "\n",
    "\n",
    "    print('Mean of Bootstrap Data 1:',np.mean(bootstrap_1))\n",
    "    print('2.55% percentile:', np.percentile(bootstrap_1,2.5))\n",
    "    print('97.5% percentile:', np.percentile(bootstrap_1,97.5))\n",
    "    print('=====================================================')\n",
    "    \n",
    "    print('Mean of Bootstrap Data 2:',np.mean(bootstrap_2))\n",
    "    print('2.55% percentile:', np.percentile(bootstrap_2,2.5))\n",
    "    print('97.5% percentile:', np.percentile(bootstrap_2,97.5))\n",
    "    print('=====================================================')\n",
    "    \n",
    "    \n",
    "    \n",
    "    plt.hist(bootstrap_1,histtype='step',rwidth=2)\n",
    "    plt.hist(bootstrap_2,histtype='step',rwidth=2)\n",
    "    \n",
    "    \n"
   ]
  },
  {
   "cell_type": "code",
   "execution_count": 79,
   "metadata": {},
   "outputs": [
    {
     "name": "stdout",
     "output_type": "stream",
     "text": [
      "Pair of data to be bootstrapped with lambda2 ratio scale: [49  4 18 26 29  9 16 12  2 22 10 34]\n",
      "Pair of data to be bootstrapped with lambda2 ratio scale: [ 61  33  62  45   0  30  82  10  20 358  63]\n",
      "# of permutation: 1000000\n",
      "Mean of Bootstrap: 0.282826424350177\n",
      "2.55% percentile: 0.07470271922848935\n",
      "97.5% percentile: 0.7657945665932666\n"
     ]
    },
    {
     "data": {
      "image/png": "[encoded data removed]",
      "text/plain": [
       "<Figure size 432x288 with 1 Axes>"
      ]
     },
     "metadata": {
      "needs_background": "light"
     },
     "output_type": "display_data"
    }
   ],
   "source": [
    "bootstrap_lambda_ratio(seed,unseed,1000000)"
   ]
  },
  {
   "cell_type": "code",
   "execution_count": 85,
   "metadata": {},
   "outputs": [
    {
     "name": "stdout",
     "output_type": "stream",
     "text": [
      "Pair of data to be bootstrapped and compared lambda2  scale: [49  4 18 26 29  9 16 12  2 22 10 34]\n",
      "Pair of data to be bootstrapped and compared lambda2  scale: [ 61  33  62  45   0  30  82  10  20 358  63]\n",
      "# of permutation: 1000000\n",
      "Mean of Bootstrap Data 1: 7.105905878787879\n",
      "2.55% percentile: 4.1439393939393945\n",
      "97.5% percentile: 10.09848484848485\n",
      "=====================================================\n",
      "Mean of Bootstrap Data 2: 37.31247216363637\n",
      "2.55% percentile: 10.354545454545454\n",
      "97.5% percentile: 77.53636363636363\n",
      "=====================================================\n"
     ]
    },
    {
     "data": {
      "image/png": "[encoded data removed]",
      "text/plain": [
       "<Figure size 432x288 with 1 Axes>"
      ]
     },
     "metadata": {
      "needs_background": "light"
     },
     "output_type": "display_data"
    }
   ],
   "source": [
    "bootstrap_lambda_compare(seed,unseed,1000000)"
   ]
  },
  {
   "cell_type": "code",
   "execution_count": 84,
   "metadata": {},
   "outputs": [
    {
     "name": "stdout",
     "output_type": "stream",
     "text": [
      "Pair of data to be bootstrapped and compared lambda2  scale: [ 43   4  31  15 127]\n",
      "Pair of data to be bootstrapped and compared lambda2  scale: [10  4  0  2  0  0  0  2  3  0  4  2  0  1  2]\n",
      "# of permutation: 1000000\n",
      "Mean of Bootstrap Data 1: 19.71393359999999\n",
      "2.55% percentile: 4.0\n",
      "97.5% percentile: 35.25\n",
      "=====================================================\n",
      "Mean of Bootstrap Data 2: 1.2059846809523815\n",
      "2.55% percentile: 0.580952380952381\n",
      "97.5% percentile: 2.0095238095238095\n",
      "=====================================================\n"
     ]
    },
    {
     "data": {
      "image/png": "[encoded data removed]",
      "text/plain": [
       "<Figure size 432x288 with 1 Axes>"
      ]
     },
     "metadata": {
      "needs_background": "light"
     },
     "output_type": "display_data"
    }
   ],
   "source": [
    "# Aufgabe 5.9\n",
    "\n",
    "#Resampling of El Nino vs Non Elnino of precipitation of A3 of June Data.\n",
    "\n",
    "elnino = np.array([43,4,31,15,127])\n",
    "non_elnino = np.array([10,4,0,2,0,0,0,2,3,0,4,2,0,1,2])\n",
    "\n",
    "bootstrap_lambda_compare(elnino,non_elnino,1000000)"
   ]
  },
  {
   "cell_type": "code",
   "execution_count": 89,
   "metadata": {},
   "outputs": [
    {
     "name": "stdout",
     "output_type": "stream",
     "text": [
      "Pair of data to be bootstrapped with lambda2 ratio scale: [ 43   4  31  15 127]\n",
      "Pair of data to be bootstrapped with lambda2 ratio scale: [10  4  0  2  0  0  0  2  3  0  4  2  0  1  2]\n",
      "# of permutation: 100000\n",
      "Mean of Bootstrap: 18.445090289458978\n",
      "2.55% percentile: 3.0179640718562877\n",
      "97.5% percentile: 45.052325581395344\n"
     ]
    },
    {
     "data": {
      "image/png": "[encoded data removed]",
      "text/plain": [
       "<Figure size 432x288 with 1 Axes>"
      ]
     },
     "metadata": {
      "needs_background": "light"
     },
     "output_type": "display_data"
    }
   ],
   "source": [
    "\n",
    "bootstrap_lambda_ratio(elnino,non_elnino,100000)"
   ]
  },
  {
   "cell_type": "code",
   "execution_count": 90,
   "metadata": {},
   "outputs": [
    {
     "name": "stdout",
     "output_type": "stream",
     "text": [
      "16.76923076923077\n"
     ]
    }
   ],
   "source": [
    "\n",
    "lambda_2(non_elnino)\n",
    "print(lambda_2(elnino)/lambda_2(non_elnino))"
   ]
  },
  {
   "cell_type": "code",
   "execution_count": null,
   "metadata": {},
   "outputs": [],
   "source": [
    "# The bootstrap_lambda_ratio is wrong\n",
    "# First join the two batches\n",
    "# Make permutation\n",
    "# Separate the batches\n",
    "# Calculate lambdas and ratios\n",
    "# N-sample time...."
   ]
  },
  {
   "cell_type": "code",
   "execution_count": null,
   "metadata": {},
   "outputs": [],
   "source": [
    "#https://datasciencechalktalk.com/2019/11/12/bootstrap-sampling-an-implementation-with-python/"
   ]
  }
 ],
 "metadata": {
  "kernelspec": {
   "display_name": "Python 3 (ipykernel)",
   "language": "python",
   "name": "python3"
  },
  "language_info": {
   "codemirror_mode": {
    "name": "ipython",
    "version": 3
   },
   "file_extension": ".py",
   "mimetype": "text/x-python",
   "name": "python",
   "nbconvert_exporter": "python",
   "pygments_lexer": "ipython3",
   "version": "3.9.6"
  }
 },
 "nbformat": 4,
 "nbformat_minor": 4
}
