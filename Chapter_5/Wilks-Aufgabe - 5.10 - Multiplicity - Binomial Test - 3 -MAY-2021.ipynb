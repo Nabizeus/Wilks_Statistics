{
 "cells": [
  {
   "cell_type": "code",
   "execution_count": 5,
   "metadata": {},
   "outputs": [],
   "source": [
    "import numpy as np\n",
    "import matplotlib.pyplot as plt\n",
    "import scipy\n",
    "from scipy import stats\n",
    "from scipy.stats import norm\n",
    "from scipy import special\n",
    "import pandas as pd"
   ]
  },
  {
   "cell_type": "code",
   "execution_count": 7,
   "metadata": {},
   "outputs": [
    {
     "name": "stdout",
     "output_type": "stream",
     "text": [
      "Binomial Test P(x>Success) 0.015901526019763607\n"
     ]
    }
   ],
   "source": [
    "# Example 5.10 A Simple Illustation of the Multiplicity Problem\n",
    "\n",
    "# N = 20 tests\n",
    "# p = 0.05 level of each independent tests\n",
    "# X = 3 of the test significant\n",
    "# Collectively different at N=2ß grid?\n",
    "# Pr(X>=3)\n",
    "# Binomial PDF\n",
    "\n",
    "p_binom_test = scipy.stats.binom_test(16,20,0.95,alternative='less')\n",
    "\n",
    "print('Binomial Test P(x>Success)',p_binom_test)\n",
    "\n",
    "# k=3\n",
    "# p (x>=3) = 0.075 > 0.05 which indicates, that 3 significant case could have occurred by chance at 5%,\n",
    "# which indicates, that the null hypothesis of significance can be rejected.\n",
    "# k=4\n",
    "# p (x>=4) = 0.02 < 0.05 which indicates, that 4 significant cases can only be at chance by 2% and \n",
    "# hence the null hypothesis of differences can be accepted."
   ]
  },
  {
   "cell_type": "code",
   "execution_count": 15,
   "metadata": {},
   "outputs": [
    {
     "name": "stdout",
     "output_type": "stream",
     "text": [
      "Binomial Test P(x>Success) 0.09527844745237099\n"
     ]
    }
   ],
   "source": [
    "# Aufgabe 5.10 - Published Article\n",
    "# A published article contains a statistical analysis of historical summer precipitation data in relation\n",
    "# to summer temperatures using individual t tests for 121 locations at the 10% level. The study investigates\n",
    "# the null hypothesis of no difference in total precipitation between the 10 warmest summers in the period\n",
    "# 1900-1969 and the remaining 60 summers, reports that 15 of the 121 tests exhibit significant results, and \n",
    "# claims that the overall pattern is therefore significant. Evaluate this claim.\n",
    "\n",
    "# N = 121 tests\n",
    "# p = 0.10 level of each independent tests\n",
    "# Collectively different?\n",
    "# Null hypothesis: No difference at 10% level\n",
    "# Binomial PDF\n",
    "\n",
    "p_binom_test = scipy.stats.binom_test(121-17,121,0.90,alternative='less')\n",
    "\n",
    "print('Binomial Test P(x>Success)',p_binom_test)\n",
    "\n",
    "# k=15 numbre of significant locations out of 121\n",
    "# p (x>=15) = 0.22 > 0.10 which indicates, that 15 significant cases could have occurred by chance at 10%,\n",
    "# which indicates, that the null hypothesis of no difference can not be rejected.\n",
    "\n",
    "# Only and only after k>17 then the p < 10%."
   ]
  },
  {
   "cell_type": "code",
   "execution_count": null,
   "metadata": {},
   "outputs": [],
   "source": []
  }
 ],
 "metadata": {
  "kernelspec": {
   "display_name": "Python 3",
   "language": "python",
   "name": "python3"
  },
  "language_info": {
   "codemirror_mode": {
    "name": "ipython",
    "version": 3
   },
   "file_extension": ".py",
   "mimetype": "text/x-python",
   "name": "python",
   "nbconvert_exporter": "python",
   "pygments_lexer": "ipython3",
   "version": "3.6.12"
  }
 },
 "nbformat": 4,
 "nbformat_minor": 4
}
