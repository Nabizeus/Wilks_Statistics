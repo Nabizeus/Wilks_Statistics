{
 "cells": [
  {
   "cell_type": "code",
   "execution_count": 1,
   "metadata": {},
   "outputs": [],
   "source": [
    "import numpy as np\n",
    "import matplotlib.pyplot as plt\n",
    "from scipy import stats\n",
    "from scipy.stats import norm\n",
    "from scipy import special\n",
    "import pandas as pd"
   ]
  },
  {
   "cell_type": "code",
   "execution_count": 2,
   "metadata": {},
   "outputs": [
    {
     "data": {
      "text/plain": [
       "'7.1. For the forecast verification data in Table 7.2,\\na. Reconstruct the joint distribution, p yi  oj   i = 1          12  j = 1  2.\\nb. Compute the unconditional (sample climatological) probability p o1 .'"
      ]
     },
     "execution_count": 2,
     "metadata": {},
     "output_type": "execute_result"
    }
   ],
   "source": [
    "\"\"\"7.1. For the forecast verification data in Table 7.2,\n",
    "a. Reconstruct the joint distribution, p yi  oj   i = 1          12  j = 1  2.\n",
    "b. Compute the unconditional (sample climatological) probability p o1 .\"\"\""
   ]
  },
  {
   "cell_type": "code",
   "execution_count": 3,
   "metadata": {},
   "outputs": [
    {
     "data": {
      "text/plain": [
       "'\\nT AB L E 7.2 Verification data for subjective 12-24h projection probability-of-precipitation forecasts for the United States during October 1980–March 1981, expressed in the form of the calibration-refinement factorization (Equation 7.2) of the joint distribution of these forecasts and observations. There are I = 12 allowable values for the forecast probabilities, yi, and J = 2 events (j = 1 for precipitation and j = 2 for no precipitation). The sample climatological relative frequency is 0.162, and the sample size is n = 12  402. From Murphy and Daan (1985).\\nyi 0.00 0.05 0.10 0.20 0.30 0.40 0.50 0.60 0.70 0.80 0.90 1.00 p o1 yi   006  019  059  150  277  377  511  587  723  799  934  933\\np yi   4112  0671  1833  0986  0616  0366  0303  0275  0245  0220  0170  0203\\n\\n'"
      ]
     },
     "execution_count": 3,
     "metadata": {},
     "output_type": "execute_result"
    }
   ],
   "source": [
    "\"\"\"\n",
    "T AB L E 7.2 Verification data for subjective 12-24h projection probability-of-precipitation forecasts for the United States during October 1980–March 1981, expressed in the form of the calibration-refinement factorization (Equation 7.2) of the joint distribution of these forecasts and observations. There are I = 12 allowable values for the forecast probabilities, yi, and J = 2 events (j = 1 for precipitation and j = 2 for no precipitation). The sample climatological relative frequency is 0.162, and the sample size is n = 12  402. From Murphy and Daan (1985).\n",
    "y_i        0.00   0.05    0.10    0.20    0.30    0.40    0.50    0.60    0.70    0.80    0.90    1.00\n",
    "p(o1|yi)   0.006  0.019   0.059   0.150   0.277   0.377   0.511   0.587   0.723   0.799   0.934   0.933\n",
    "p(yi)      0.4112 0.0671  0.1833  0.0986  0.0616  0.0366  0.0303  0.0275  0.0245  0.0220  0.0170  0.0203\n",
    "\n",
    "The Multiplicative Law of Probability:\n",
    "p(y_i,o_1) = p(y_i|o_1)*p(o_1) = p(o_1|y_i)*p(y_i)\n",
    "\n",
    "Total Probability:\n",
    "p(yi) = p(y_i,o_1) + p(y_i,o_2) + ... + p(y_i,o_n)\n",
    "\n",
    "\"\"\"\n",
    "\n",
    "\n"
   ]
  },
  {
   "cell_type": "code",
   "execution_count": 19,
   "metadata": {},
   "outputs": [
    {
     "name": "stdout",
     "output_type": "stream",
     "text": [
      "Joint distribution Pr(yi,o1) [0.0024672, 0.0012749, 0.010814699999999998, 0.014789999999999998, 0.0170632, 0.0137982, 0.0154833, 0.0161425, 0.0177135, 0.017578, 0.015878000000000003, 0.0189399]\n",
      "Joint distribution Pr(yi,o2) [0.4087328, 0.06582510000000001, 0.17248529999999998, 0.08381, 0.0445368, 0.0228018, 0.0148167, 0.0113575, 0.006786500000000001, 0.004421999999999999, 0.001121999999999998, 0.0013600999999999995]\n",
      "Prob of Observation 1: 0.16194340000000002\n"
     ]
    }
   ],
   "source": [
    "# Joint P\n",
    "# Pr E1 ∪E2  = Pr E1 or E2 or both \n",
    "#            = Pr E1  + Pr E2  − Pr E1 ∩ E2  \n",
    "# Pr E1 E2  = Pr E1 ∩E2 \n",
    "# Pr (E1 ∩ E2)  = Pr (E1 |E2)* Pr (E2)  = Pr (E2|E1) Pr(E1)  \n",
    "\n",
    "# Joint distribution\n",
    "# p(y_i|o_j) = p(y_i,o_j)*p(o_j)\n",
    "# p(y_i|o_1) = p(y_i,o_1)*p(o_1) \n",
    "\n",
    "# p(y_i,o_1) = p(y_i|o_1)*p(o_1) = p(o_1|y_i)*p(y_i)\n",
    "p_o1_yi = [0.006,0.019,0.059,0.150,0.277,0.377,0.511,0.587,0.723,0.799,0.934,0.933]\n",
    "p_yi = [0.4112,0.0671,0.1833,0.0986,0.0616,0.0366,0.0303,0.0275,0.0245,0.0220,0.0170,0.0203]\n",
    "\n",
    "p_yi_o1 = []\n",
    "p_yi_o2 = []\n",
    "p_o1 = 0\n",
    "for k in range(0,len(p_yi)):\n",
    "     calc = p_o1_yi[k] * p_yi[k]\n",
    "     p_o1 = p_o1 + calc\n",
    "   \n",
    "     p_yi_o1.append(calc)\n",
    "     p_yi_o2.append(p_yi[k]-calc)\n",
    "     \n",
    "print(\"Joint distribution Pr(yi,o1)\",p_yi_o1)\n",
    "print(\"Joint distribution Pr(yi,o2)\",p_yi_o2)\n",
    "\n",
    "print(\"Prob of Observation 1:\", p_o1)\n",
    "\n",
    "     \n",
    "\n",
    "\n",
    "\n"
   ]
  },
  {
   "cell_type": "code",
   "execution_count": 20,
   "metadata": {},
   "outputs": [],
   "source": [
    "# Double Check Answers: \n",
    "\"\"\"Chapter 7\n",
    "7.1. a.  p_yi_o1 .0025 .0013 .0108 .0148 .0171 .0138 .0155 .0161 .0177 .0176 .0159 .0189\n",
    "         p_yi_o2 .4087 .0658 .1725 .0838 .0445 .0228 .0148 .0114 .0068 .0044 .0011 .0014\n",
    "b. p_o1: 0.162\"\"\""
   ]
  },
  {
   "cell_type": "code",
   "execution_count": null,
   "metadata": {},
   "outputs": [],
   "source": []
  }
 ],
 "metadata": {
  "kernelspec": {
   "display_name": "Python 3",
   "language": "python",
   "name": "python3"
  },
  "language_info": {
   "codemirror_mode": {
    "name": "ipython",
    "version": 3
   },
   "file_extension": ".py",
   "mimetype": "text/x-python",
   "name": "python",
   "nbconvert_exporter": "python",
   "pygments_lexer": "ipython3",
   "version": "3.6.12"
  }
 },
 "nbformat": 4,
 "nbformat_minor": 5
}
