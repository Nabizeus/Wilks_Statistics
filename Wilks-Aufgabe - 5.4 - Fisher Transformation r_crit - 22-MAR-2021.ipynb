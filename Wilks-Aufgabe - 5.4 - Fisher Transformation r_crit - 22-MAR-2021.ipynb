{
 "cells": [
  {
   "cell_type": "code",
   "execution_count": 10,
   "metadata": {},
   "outputs": [],
   "source": [
    "import numpy as np\n",
    "import matplotlib.pyplot as plt\n",
    "from scipy import stats\n",
    "from scipy.stats import norm"
   ]
  },
  {
   "cell_type": "code",
   "execution_count": null,
   "metadata": {},
   "outputs": [],
   "source": [
    "\n",
    "# Aufgabe 5.4\n",
    "# Given that the correlation ins Fig 5.6a were computed using 29 years of data, \n",
    "#use the Fischer F transformation to compute the magintude of the correlation coefficient that\n",
    "# was necessary for the null hypothesis to be rejected at the 5% level, versus alternative r not 0\n",
    "# for the two sets of minimum air temperature in Table A1\n",
    "\n",
    "#Fischer transform\n",
    "\n",
    "#F=0.5 ln((1+r)/(1-r))\n"
   ]
  },
  {
   "cell_type": "code",
   "execution_count": 1,
   "metadata": {},
   "outputs": [
    {
     "name": "stdout",
     "output_type": "stream",
     "text": [
      "Fischer Transf 0.3843876248708407\n"
     ]
    }
   ],
   "source": [
    "# For r=0, F -> Gaussian (mu=0, sigma=1/(n-3)^0.5)\n",
    "# 5% Gaussian, mu+1.96*sigma\n",
    "\n",
    "mu=0\n",
    "z_level = 1.96 \n",
    "sigma=1/(29-3)**0.5\n",
    "F=mu+z_level*sigma\n",
    "print('Fischer Transf',F)"
   ]
  },
  {
   "cell_type": "code",
   "execution_count": 6,
   "metadata": {},
   "outputs": [
    {
     "name": "stdout",
     "output_type": "stream",
     "text": [
      "r_critical at 5% level > 0.36651179226176317\n"
     ]
    }
   ],
   "source": [
    "r_crit=(np.exp(2*F)-1)/(np.exp(2*F)+1)\n",
    "print('r_critical at 5% level >',r_crit)"
   ]
  },
  {
   "cell_type": "code",
   "execution_count": 8,
   "metadata": {},
   "outputs": [
    {
     "name": "stdout",
     "output_type": "stream",
     "text": [
      "Raw Data: [4.17 5.61 3.88 1.55 2.3  5.58 5.58 5.14 4.52 1.53 4.24 1.18 3.17 4.72\n",
      " 2.17 2.17 3.94 0.95 1.48 5.68 4.25 3.66 2.12 1.24 3.64 8.44 5.2  2.33\n",
      " 2.18 3.43]\n"
     ]
    }
   ],
   "source": [
    "# Ithaca July precipitation data from Wilks, Newyork, 1951-1980 (inches)\n",
    "data_series = np.array([4.17,5.61,3.88,1.55,2.30,5.58,5.58,5.14,4.52,1.53,4.24,1.18,3.17,\n",
    "        4.72,2.17,2.17,3.94,0.95,1.48,5.68,4.25,3.66,2.12,1.24,3.64,8.44,5.20,2.33,2.18,3.43])\n",
    "years = np.arange(1951,1981,1)\n",
    "\n",
    "print('Raw Data:', data_series)"
   ]
  },
  {
   "cell_type": "code",
   "execution_count": null,
   "metadata": {},
   "outputs": [],
   "source": []
  }
 ],
 "metadata": {
  "kernelspec": {
   "display_name": "Python 3",
   "language": "python",
   "name": "python3"
  },
  "language_info": {
   "codemirror_mode": {
    "name": "ipython",
    "version": 3
   },
   "file_extension": ".py",
   "mimetype": "text/x-python",
   "name": "python",
   "nbconvert_exporter": "python",
   "pygments_lexer": "ipython3",
   "version": "3.6.12"
  }
 },
 "nbformat": 4,
 "nbformat_minor": 4
}
