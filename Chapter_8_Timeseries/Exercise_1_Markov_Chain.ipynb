{
 "cells": [
  {
   "cell_type": "code",
   "execution_count": 1,
   "id": "7ce85974",
   "metadata": {},
   "outputs": [],
   "source": [
    "import numpy as np\n",
    "\n",
    "\n"
   ]
  },
  {
   "cell_type": "raw",
   "id": "2c09b2a6",
   "metadata": {},
   "source": [
    "\"\"\"EXAMPLE 8.1 Fitting a Two-State, First Order Markov Chain\n",
    "\n",
    "Consider summarizing the time series in Table 8.1, derived from the January 1987\n",
    "Ithaca precipitation series in Table A.1, using a first-order Markov chain. The parameter\n",
    "estimates in Equation 8.3 are obtained easily from the transition counts.\n",
    "\n",
    "\n",
    "TABLE 8.1 Time series of a dichotomous random variable derived from the January 1987 Ithaca precipitation\n",
    "data in Table A.1. Days on which nonzero precipitation was reported yield x t = 1, and days with zero precipitation\n",
    "yield x t = 0.\n",
    "Date, t 1 2 3 4 5 6 7 8 9 10 11 12 13 14 15 16 17 18 19 20 21 22 23 24 25 26 27 28 29 30 31\n",
    "x t\n",
    "0 1 1 0 0 0 0 1 1 1 1 1 1 1 1 0 0 0 0 1 0 0 1 0 0 0 0 0 1 1 1\n",
    "\n",
    "￼\n",
    "p̂ 01 = (# of 1 \u0003 s following 0 \u0003 s)/(Total # of 0 \u0003 s) = n_01/n_0• (8.3a)\n",
    "p̂ 11 = # of 1 \u0003 s following 1 \u0003 s/Total # of 1 \u0003 s = n_11/n_1• (8.3b)\n",
    "\n",
    "\n",
    " For example, the\n",
    "number of 1’s following 0’s in the time series of Table 8.1 is :\n",
    "\n",
    "n_01 = 5. Similarly, n_00 = 11\u0003\n",
    "n_10 = 4, and n 11 = 10. \n",
    "\n",
    "The resulting sample estimates for the transition probabilities\n",
    "(Equations 8.3) are \n",
    "\n",
    "p 01 = 5/16 = 0\u0005.312, and p 11 = 10/14 = 0\u0005.714. \n",
    "\n",
    "Note that these are\n",
    "identical to the conditional probabilities computed in Example 2.2.\n",
    "Whether the extra effort of fitting the first-order Markov chain to the data in Table 8.1\n",
    "is justified can be investigated using the 2 test in Equation 8.8.\n",
    "\n",
    "\n",
    " Here the null hypothesis is that these data resulted from an independent (i.e., Bernoulli) process, and the expected\n",
    "transition counts e_ij that must be computed are those consistent with this null hypothesis.\n",
    "\n",
    "These are obtained from the marginal totals\n",
    " n 0• = 11 + 5 = 16\u0003 \n",
    "n 1• = 4 + 10 = 14\u0003\n",
    "n •0 = 11 + 4 = 15,\n",
    " and n •1 = 5 + 10 = 15. \n",
    "\n",
    "The expected transition counts follow easily as:\n",
    " \n",
    "e 00 = \u000716\b\u000715\b/30 = 8\n",
    "\u0003 e 01 = \u000716\b\u000715\b/30 = 8\n",
    "\u0003 e 10 = \u000714\b\u000715\b/30 = 7, and\n",
    "e 11 = \u000714\b\u000715\b/30 = 7. \n",
    "\n",
    "Note that usually the expected transition counts will be different\n",
    "from each other, and need not be integer values.\n",
    "Computing the test statistic in Equation 8.8, we find  \n",
    "\n",
    "Chi2 = \u000711 − 8\b 2 /8 + \u00075 − 8\b 2 /8 +\n",
    "\u00074 − 7\b 2 /7 + \u000710 − 7\b 2 /7 = 4\u000582. \n",
    "\n",
    "The degree of unusualness of this result with reference\n",
    "to the null hypothesis can be assessed with the aid of Table B.3. Looking on the = 1\n",
    "row, we find that the result lies between the 95 th and 99 th percentiles of the appropriate\n",
    "Chi2\n",
    "distribution. Thus, even for this rather small sample size, the null hypothesis of serial\n",
    "independence would be rejected at the 5% level, although not at the 1% level.\n",
    "The degree of persistence exhibited by this data sample can be summarized using the\n",
    "persistence parameter, which is also the lag-one autocorrelation, \n",
    "r 1 = p 11 − p 01 = 0\u0005714 − 0\u0005312 = 0.\u0005402.\n",
    "\n",
    " This value is obtained by operating on the series of 0’s and 1’s in Table 8.1,\n",
    "using Equation 3.30. This lag-1 autocorrelation is fairly large, indicating substantial serial\n",
    "correlation in the time series. It also implies the full autocorrelation function, through Equa-\n",
    "tion 8.6. Figure 8.3 shows that the implied theoretical correlation function for this Markov\n",
    "process, shown as the dashed line, agrees very closely with the sample autocorrelation func-\n",
    "tion shown by the solid line, for the first few lags. This agreement provides qualitative\n",
    "support for the first-order Markov chain as an appropriate model for the data series.\n",
    "Finally, the stationary (i.e., climatological) probability for precipitation implied for this\n",
    "data by the Markov chain model is, using Equation 8.4, \n",
    "\n",
    "Pi_1 = 0\u0005312/\u00071 + 0\u0005312 − 0\u0005714\b = 0\u0005522. \n",
    "\n",
    "This value agrees closely with the relative frequency 16/30 = 0\u0005533, obtained by\n",
    "counting the number of 1’s in the last 30 values of the series in Table 8.1. ♦\"\"\""
   ]
  },
  {
   "cell_type": "code",
   "execution_count": 6,
   "id": "5497b0cf",
   "metadata": {},
   "outputs": [
    {
     "name": "stdout",
     "output_type": "stream",
     "text": [
      "len(precipitation_canandaigua)  31\n",
      "mean_precip  0.08\n",
      "sum_precip  2.40\n",
      "stdev_precip  0.16\n"
     ]
    }
   ],
   "source": [
    "precipitation_canandaigua = [0.00,0.04,0.84,0.00,0.,0.,0.02,0.05,0.01,0.09,0.18,0.04,0.04,0.00,0.06,0.03,\n",
    "                            0.04,0.,0.,0.35,0.02,0.01,0.35,0.08,0.,0.,0.,0.,0.01,0.01,0.13]\n",
    "\n",
    "mean_precip = np.mean(precipitation_canandaigua)\n",
    "sum_precip = np.sum(precipitation_canandaigua)\n",
    "stdev_precip = np.std(precipitation_canandaigua)\n",
    "print(f\"len(precipitation_canandaigua) \",len(precipitation_canandaigua))\n",
    "print(f\"mean_precip {mean_precip: .2f}\")\n",
    "print(f\"sum_precip {sum_precip: .2f}\")\n",
    "print(f\"stdev_precip {stdev_precip: .2f}\")"
   ]
  },
  {
   "cell_type": "code",
   "execution_count": 8,
   "id": "df47b646",
   "metadata": {},
   "outputs": [
    {
     "name": "stdout",
     "output_type": "stream",
     "text": [
      "[0, 1, 1, 0, 0, 0, 1, 1, 1, 1, 1, 1, 1, 0, 1, 1, 1, 0, 0, 1, 1, 1, 1, 1, 0, 0, 0, 0, 1, 1, 1]\n"
     ]
    }
   ],
   "source": [
    "# Create a new vector of the same length\n",
    "binary_precipitation = [1 if x > 0 else 0 for x in precipitation_canandaigua]\n",
    "\n",
    "print(binary_precipitation)"
   ]
  },
  {
   "cell_type": "code",
   "execution_count": 10,
   "id": "c58de309",
   "metadata": {},
   "outputs": [],
   "source": [
    "\n",
    "\n",
    "def fit_markov_chain(binary_list):\n",
    "  \"\"\"\n",
    "  Fits a first-order Markov chain to a binary list.\n",
    "\n",
    "  Args:\n",
    "    binary_list: A list of 0s and 1s.\n",
    "\n",
    "  Returns:\n",
    "    A 2x2 transition matrix.\n",
    "  \"\"\"\n",
    "\n",
    "  # Count the number of transitions from 0 to 0, 0 to 1, 1 to 0, and 1 to 1\n",
    "  counts = np.zeros((2, 2), dtype=int)\n",
    "  for i in range(len(binary_list) - 1):\n",
    "    counts[binary_list[i], binary_list[i+1]] += 1\n",
    "\n",
    "  # Normalize the counts to get the transition probabilities\n",
    "  row_sums = counts.sum(axis=1)\n",
    "  transition_matrix = counts / row_sums[:, np.newaxis]\n",
    "\n",
    "  return transition_matrix\n",
    "\n"
   ]
  },
  {
   "cell_type": "code",
   "execution_count": 39,
   "id": "8fcdab30",
   "metadata": {},
   "outputs": [
    {
     "name": "stdout",
     "output_type": "stream",
     "text": [
      "transition_matrix [[0.54545455 0.45454545]\n",
      " [0.21052632 0.78947368]]\n"
     ]
    }
   ],
   "source": [
    "# Example usage:\n",
    "\n",
    "transition_matrix = fit_markov_chain(binary_precipitation)\n",
    "print(\"transition_matrix\",transition_matrix)"
   ]
  },
  {
   "cell_type": "markdown",
   "id": "a1ab518e",
   "metadata": {},
   "source": [
    "The null hypthesis is that these data are from an independet Bernoulli experiment (coin flip)... 1 following the 0 following th 1 etc\n",
    "\n",
    "In order to reject, we need a test if transition counts are consistent with null hypothesis\n",
    "\n",
    "**Marginal totals**\n",
    "\n",
    "n_0· = n_00 + n_01 \n",
    "\n",
    "n_1· = n_10 + n_11\n",
    "\n",
    "n_·0 = n_00 + n_10\n",
    "\n",
    "n_·1 = n_01 + n_11\n",
    "\n",
    "ChiSquare = SUM_i SUM_j (n_ij-e_ij)**2/e_ij\n"
   ]
  },
  {
   "cell_type": "code",
   "execution_count": 77,
   "id": "31762a96",
   "metadata": {},
   "outputs": [],
   "source": [
    "n_00 = 6 # Numer of 0's followed by 0's\n",
    "n_01 = 5 # Numer of 0's followed by 1's\n",
    "n_10 = 4 # Numer of 1's followed by 0's\n",
    "n_11 = 15 # Numer of 1's followed by 1's"
   ]
  },
  {
   "cell_type": "code",
   "execution_count": 78,
   "id": "97a23aed",
   "metadata": {},
   "outputs": [
    {
     "name": "stdout",
     "output_type": "stream",
     "text": [
      "n_0i  11\n",
      "n_1i  19\n",
      "n_i0  10\n",
      "n_i1  20\n",
      "e_00  3.6666666666666665\n",
      "e_01  7.333333333333333\n",
      "e_10  6.333333333333333\n",
      "e_11  12.666666666666666\n"
     ]
    }
   ],
   "source": [
    "n_0i = n_00 + n_01\n",
    "n_1i = n_10 + n_11\n",
    "n_i0 = n_00 + n_10\n",
    "n_i1 = n_01 + n_11\n",
    "\n",
    "print(\"n_0i \",n_0i)\n",
    "print(\"n_1i \",n_1i)\n",
    "print(\"n_i0 \",n_i0)\n",
    "print(\"n_i1 \",n_i1)\n",
    "\n",
    "\n",
    "#e_ij = n_i· * n_·j/n Chi Square Distribution Expectation totals\n",
    "e_00 =n_0i * n_i0/30\n",
    "e_01 =n_0i * n_i1/30\n",
    "e_10 =n_1i * n_i0/30\n",
    "e_11 =n_1i * n_i1/30\n",
    "\n",
    "print(\"e_00 \",e_00)\n",
    "print(\"e_01 \",e_01)\n",
    "print(\"e_10 \",e_10)\n",
    "print(\"e_11 \",e_11)\n",
    "\n",
    "# ChiSquare = SUM_i SUM_j (n_ij-e_ij)**2/e_ij"
   ]
  },
  {
   "cell_type": "code",
   "execution_count": 84,
   "id": "3508a99f",
   "metadata": {},
   "outputs": [],
   "source": [
    "Chi_square = ((n_00 - e_00)**2)/e_00 + ((n_01 - e_01))**2/e_01+(n_10 - e_10)**2/e_10 + (n_11 - e_11)**2/e_11"
   ]
  },
  {
   "cell_type": "code",
   "execution_count": 85,
   "id": "48317ee0",
   "metadata": {},
   "outputs": [
    {
     "name": "stdout",
     "output_type": "stream",
     "text": [
      "ChiSquare Root 1.8752990192188694\n",
      "ChiSquare 3.5167464114832536\n"
     ]
    }
   ],
   "source": [
    "print(\"ChiSquare Root\",np.sqrt(Chi_square))\n",
    "print(\"ChiSquare\",(Chi_square))"
   ]
  },
  {
   "cell_type": "markdown",
   "id": "8b563da3",
   "metadata": {},
   "source": [
    "**The Null Hypothesis can be accepted**"
   ]
  },
  {
   "cell_type": "code",
   "execution_count": 81,
   "id": "4108c555",
   "metadata": {},
   "outputs": [
    {
     "name": "stdout",
     "output_type": "stream",
     "text": [
      "p_01  0.45454545454545453\n",
      "p_11  0.7894736842105263\n"
     ]
    }
   ],
   "source": [
    "#P_01 Probability 0's following 1's\n",
    "\n",
    "p_01 = n_01/n_0i\n",
    "p_11 = n_11/n_1i\n",
    "\n",
    "print(\"p_01 \",p_01)\n",
    "print(\"p_11 \",p_11)\n"
   ]
  },
  {
   "cell_type": "code",
   "execution_count": null,
   "id": "d670b4fb",
   "metadata": {},
   "outputs": [],
   "source": []
  },
  {
   "cell_type": "code",
   "execution_count": null,
   "id": "fa7a4052",
   "metadata": {},
   "outputs": [],
   "source": []
  }
 ],
 "metadata": {
  "kernelspec": {
   "display_name": "Python 3 (ipykernel)",
   "language": "python",
   "name": "python3"
  },
  "language_info": {
   "codemirror_mode": {
    "name": "ipython",
    "version": 3
   },
   "file_extension": ".py",
   "mimetype": "text/x-python",
   "name": "python",
   "nbconvert_exporter": "python",
   "pygments_lexer": "ipython3",
   "version": "3.8.18"
  }
 },
 "nbformat": 4,
 "nbformat_minor": 5
}
