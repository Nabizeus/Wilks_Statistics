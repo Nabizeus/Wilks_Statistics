{
 "cells": [
  {
   "cell_type": "code",
   "execution_count": 1,
   "id": "cc9ddabc",
   "metadata": {},
   "outputs": [],
   "source": [
    "\n",
    "\n",
    "import numpy as np\n",
    "import matplotlib.pyplot as plt\n",
    "from scipy import stats\n",
    "from scipy.stats import norm\n",
    "from scipy import special\n",
    "import pandas as pd\n",
    "\n"
   ]
  },
  {
   "cell_type": "code",
   "execution_count": 45,
   "id": "dfa6be11",
   "metadata": {},
   "outputs": [],
   "source": [
    "def linear_regressor(vec_x,vec_y,x_zero):\n",
    "\n",
    "    nx = vec_x.shape[0]\n",
    "    ny = vec_y.shape[0]\n",
    "    \n",
    "    if nx != ny:\n",
    "        print(nx,ny)\n",
    "        print('Warning: Vector X and Y have different size!')\n",
    "        \n",
    "    else:\n",
    "        print('X & Y have same size :)')\n",
    "        \n",
    "        sum_xy = np.sum(vec_x*vec_y)\n",
    "        sum_x = np.sum(vec_x)\n",
    "        sum_y = np.sum(vec_y)\n",
    "        sum_x_sq = np.sum(vec_x**2)\n",
    "        sum_dx_sq = np.sum((vec_x-np.mean(vec_x))**2)\n",
    "        b = (nx*sum_xy-sum_x*sum_y)/(nx*sum_x_sq-sum_x**2)\n",
    "        a = np.mean(vec_y)-b*np.mean(vec_x)\n",
    "        \n",
    "        y_fit = a+b*vec_x\n",
    "        sum_y_yfit_sq = np.sum((vec_y-y_fit)**2)\n",
    "        \n",
    "        s_e = np.sqrt(1/(nx-2)*sum_y_yfit_sq)\n",
    "        \n",
    "        \n",
    "        sigma_a = s_e*np.sqrt(sum_x_sq/(nx*sum_dx_sq))\n",
    "        sigma_b = s_e/np.sqrt(sum_dx_sq)\n",
    "        \n",
    "        SST = np.sum((vec_y-np.mean(vec_y))**2)\n",
    "        SSR = np.sum((y_fit-np.mean(vec_y))**2)\n",
    "        SSE = sum_y_yfit_sq\n",
    "        R_sq = SSR/SST\n",
    "        R_pearson = np.sqrt(R_sq)\n",
    "        F_test = SSR/SSE\n",
    "        t_a = a/sigma_a\n",
    "        t_b = b/sigma_b\n",
    "        r_lag_1=0 # Lag-1 Correlation of y-data\n",
    "        x_term = 1+1/nx+(x_zero - np.mean(vec_x))**2/sum_dx_sq\n",
    "        var_y_fit_predict = s_e**2*(1+r_lag_1)/(1-r_lag_1)*x_term\n",
    "        \n",
    "        print('=======================')\n",
    "        print('y = a + bx')\n",
    "        print('Slope b:',f\"{b:.3}\")\n",
    "        print('Sigma b:',f\"{sigma_b:.3}\")\n",
    "        print('Intercept a:',f\"{a:.4}\")\n",
    "        print('Sigma Intercept a:',f\"{sigma_a:.4}\")\n",
    "        print('MSE: s_e**2:',f\"{s_e**2:.4}\")\n",
    "        print('s_e:',f\"{s_e:.4}\")\n",
    "        print('=======================')\n",
    "        print('ANOVA Table')\n",
    "        print('Total sum of sqares - SST:',f\"{SST:.3}\")\n",
    "        print('SSR:',f\"{SSR:.3}\")\n",
    "        print('SSE:',f\"{SSE:.3}\")\n",
    "        print('Coefficient of determination - R^2:',f\"{R_sq:.3}\")\n",
    "        print('Pearson correlation - R:',f\"{R_pearson:.3}\")\n",
    "        print('F ratio SSR/SSE - F:',f\"{F_test:.3}\")\n",
    "        print('t-Student ratio - a:',f\"{t_a:.3}\")\n",
    "        print('t-Student ratio - b:',f\"{t_b:.3}\")\n",
    "        print('==========Part d: s(y^): Error of Predictand=============')\n",
    "        print('var_y_fit_predict(x_zero):', var_y_fit_predict)\n",
    "        print('sigma_y_fit_predict(x_zero):',np.sqrt(var_y_fit_predict))\n",
    "        \n",
    "        \n",
    "        \n",
    "        ax = plt.axes()\n",
    "   \n",
    "\n",
    "\n",
    "        plt.title('June T vs. p Table A.3 June')\n",
    "        plt.ylabel('T observed [C]')\n",
    "        plt.xlabel('p observed [mb]')\n",
    "        \n",
    "        plt.scatter(vec_x,vec_y,color='r')\n",
    "        plt.plot(vec_x,y_fit,linestyle='-',color='b')\n",
    "        \n",
    "        \n",
    "        #return b,a"
   ]
  },
  {
   "cell_type": "code",
   "execution_count": 46,
   "id": "a938eb04",
   "metadata": {},
   "outputs": [
    {
     "name": "stdout",
     "output_type": "stream",
     "text": [
      "X & Y have same size :)\n",
      "=======================\n",
      "y = a + bx\n",
      "Slope b: -0.925\n",
      "Sigma b: 0.146\n",
      "Intercept a: 959.8\n",
      "Sigma Intercept a: 147.8\n",
      "MSE: s_e**2: 0.3146\n",
      "s_e: 0.5609\n",
      "=======================\n",
      "ANOVA Table\n",
      "Total sum of sqares - SST: 18.2\n",
      "SSR: 12.6\n",
      "SSE: 5.66\n",
      "Coefficient of determination - R^2: 0.69\n",
      "Pearson correlation - R: 0.83\n",
      "F ratio SSR/SSE - F: 2.22\n",
      "t-Student ratio - a: 6.49\n",
      "t-Student ratio - b: -6.32\n",
      "==========Part d: s(y^): Error of Predictand=============\n",
      "var_y_fit_predict(x_zero): 0.42018533540845415\n",
      "sigma_y_fit_predict(x_zero): 0.6482170434418199\n"
     ]
    },
    {
     "data": {
      "image/png": "[encoded data removed]",
      "text/plain": [
       "<Figure size 432x288 with 1 Axes>"
      ]
     },
     "metadata": {
      "needs_background": "light"
     },
     "output_type": "display_data"
    }
   ],
   "source": [
    "# Exercise 6.1 - A Simple Linear Regression\n",
    "# a. Derive a simple linear regression equation using the data in Table A.3, relating \n",
    "# June temperature (as the predictand) to June pressure (as the predictor).\n",
    "# b. Explain the physical meanings of the two parameters.\n",
    "# c. Formally test whether the fitted slope is significantly different\n",
    "# from zero\n",
    "# d. Compute the R2 statistic\n",
    "# e. Estimate the probability that a predicted value corresponding\n",
    "# to x_0=1013 mb will be within 1°C of the regression line,\n",
    "# using Equation 6.22\n",
    "# f. Repeat (e), assuming the prediction variance equals the MSE.\n",
    "\n",
    "\n",
    "\n",
    "# Table A.3 T June at predictand Y vs. pressure (as predictor X)\n",
    "T_predictand_Y = np.array([26.1,24.5,24.8,24.5,24.1,24.3,26.4,24.9,\n",
    "                         23.7,23.5,24.0,24.1,23.7,24.3,26.6,24.6,\n",
    "                         24.8,24.4,26.8,25.2,])\n",
    "\n",
    "p_predictor_X = np.array([1009.5,1010.9,1010.7,1011.2,1011.9,\n",
    "                          1011.2,1009.3,1011.1,1012.0,1011.4,\n",
    "                          1010.9,1011.5,1011.0,1011.2,1009.9,\n",
    "                          1012.5,1011.1,1011.8,1009.3,1010.6])\n",
    "\n",
    "\n",
    "#print(T_min_Cndg*T_min_Ithc)\n",
    "\n",
    "linear_regressor((p_predictor_X),T_predictand_Y,1013)"
   ]
  },
  {
   "cell_type": "code",
   "execution_count": 48,
   "id": "b32d800a",
   "metadata": {},
   "outputs": [
    {
     "name": "stdout",
     "output_type": "stream",
     "text": [
      "z-score cumulative probability: 0.9380320971636288\n",
      "z-score cumulative probability: 0.9629272344442965\n"
     ]
    }
   ],
   "source": [
    "# The physical meaning? \n",
    "# Low pressure systems  due to heating of the\n",
    "# surface and ascending air...\n",
    "# c. Test that the fitted slope is different from zero.\n",
    "\n",
    "# Slope-0/Sigma(Slope) as t-Statistics?\n",
    "\n",
    "# t-Student ratio is -6.32 99.99% highly signficiant\n",
    "# d. R^2 statistics = 0.69 \n",
    "# e. Probability that 1° at 1013 mb? z=1°C/sigma_y_fit(x_zero)=1.53\n",
    "# p(Z=1.53) = st.norm.cdf(z)\n",
    "z=1/0.65\n",
    "import scipy.stats as st\n",
    "print('z-score cumulative probability:',st.norm.cdf(z))\n",
    "\n",
    "\n",
    "# p is 94%\n",
    "\n",
    "# f. Assume prediction variance is MSE= 0.314\n",
    "z = 1/0.56\n",
    "print('z-score cumulative probability:',st.norm.cdf(z))\n",
    "\n",
    "# p is 96%"
   ]
  },
  {
   "cell_type": "code",
   "execution_count": null,
   "id": "4c458e29",
   "metadata": {},
   "outputs": [],
   "source": []
  }
 ],
 "metadata": {
  "kernelspec": {
   "display_name": "Python 3 (ipykernel)",
   "language": "python",
   "name": "python3"
  },
  "language_info": {
   "codemirror_mode": {
    "name": "ipython",
    "version": 3
   },
   "file_extension": ".py",
   "mimetype": "text/x-python",
   "name": "python",
   "nbconvert_exporter": "python",
   "pygments_lexer": "ipython3",
   "version": "3.9.6"
  }
 },
 "nbformat": 4,
 "nbformat_minor": 5
}
