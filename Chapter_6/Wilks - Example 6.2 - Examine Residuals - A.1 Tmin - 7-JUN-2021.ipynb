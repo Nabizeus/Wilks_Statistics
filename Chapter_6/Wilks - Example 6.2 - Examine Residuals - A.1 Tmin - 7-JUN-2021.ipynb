{
 "cells": [
  {
   "cell_type": "code",
   "execution_count": 1,
   "metadata": {},
   "outputs": [],
   "source": [
    "import numpy as np\n",
    "import matplotlib.pyplot as plt\n",
    "from scipy import stats\n",
    "from scipy.stats import norm\n",
    "from scipy import special\n",
    "import pandas as pd"
   ]
  },
  {
   "cell_type": "code",
   "execution_count": 55,
   "metadata": {},
   "outputs": [],
   "source": [
    "def durbin_watson_test(vec_x,vec_y):\n",
    "\n",
    "    nx = vec_x.shape[0]\n",
    "    ny = vec_y.shape[0]\n",
    "    \n",
    "    if nx != ny:\n",
    "        print(nx,ny)\n",
    "        print('Warning: Vector X and Y have different size!')\n",
    "        \n",
    "    else:\n",
    "        print('X & Y have same size :)')\n",
    "        \n",
    "        sum_xy = np.sum(vec_x*vec_y)\n",
    "        sum_x = np.sum(vec_x)\n",
    "        sum_y = np.sum(vec_y)\n",
    "        sum_x_sq = np.sum(vec_x**2)\n",
    "        sum_dx_sq = np.sum((vec_x-np.mean(vec_x))**2)\n",
    "        b = (nx*sum_xy-sum_x*sum_y)/(nx*sum_x_sq-sum_x**2)\n",
    "        a = np.mean(vec_y)-b*np.mean(vec_x)\n",
    "        \n",
    "        y_fit = a+b*vec_x\n",
    "        sum_y_yfit_sq = np.sum((vec_y-y_fit)**2)\n",
    "        \n",
    "        s_e = np.sqrt(1/(nx-2)*sum_y_yfit_sq)\n",
    "        \n",
    "        \n",
    "        sigma_a = s_e*np.sqrt(sum_x_sq/(nx*sum_dx_sq))\n",
    "        sigma_b = s_e/np.sqrt(sum_dx_sq)\n",
    "        \n",
    "        SST = np.sum((vec_y-np.mean(vec_y))**2)\n",
    "        SSR = np.sum((y_fit-np.mean(vec_y))**2)\n",
    "        SSE = sum_y_yfit_sq\n",
    "        R_sq = SSR/SST\n",
    "        R_pearson = np.sqrt(R_sq)\n",
    "        F_test = SSR/SSE\n",
    "        t_a = a/sigma_a\n",
    "        t_b = b/sigma_b\n",
    "        \n",
    "        \n",
    "        residuals = vec_y-y_fit\n",
    "        residuals_lag=np.zeros(nx-1,dtype=float)\n",
    "        res_norm = SSE\n",
    "        acor = np.correlate(residuals, residuals,'same')/SSE\n",
    "        \n",
    "        \n",
    "        \n",
    "        for k in range(1,nx):\n",
    "            #print('k',k)\n",
    "            residuals_lag[k-1] = residuals[k] - residuals[k-1] \n",
    "       \n",
    "        durbin_watson = np.sum(residuals_lag**2)/SSE\n",
    "    \n",
    "        plt.scatter(vec_x,vec_y)\n",
    "        plt.plot(vec_x,y_fit,color='r')\n",
    "        print('=======================')\n",
    "        print('y = a + bx')\n",
    "        print('Slope b:',f\"{b:.3}\")\n",
    "        print('Sigma b:',f\"{sigma_b:.3}\")\n",
    "        print('Intercept a:',f\"{a:.4}\")\n",
    "        print('Sigma Intercept a:',f\"{sigma_a:.4}\")\n",
    "        \n",
    "        print('=======================')\n",
    "        print('lag-1 Autocorr:',f\"{acor[1]:.3}\")\n",
    "        print('Durbin-Watson Test')\n",
    "        print('d:',f\"{durbin_watson:.3}\")\n",
    "        print('=======================')\n",
    "        \n",
    "        \n",
    "        \n",
    "        #return b,a\n",
    "   \n",
    "\n"
   ]
  },
  {
   "cell_type": "code",
   "execution_count": 56,
   "metadata": {},
   "outputs": [
    {
     "name": "stdout",
     "output_type": "stream",
     "text": [
      "X & Y have same size :)\n",
      "=======================\n",
      "y = a + bx\n",
      "Slope b: 0.597\n",
      "Sigma b: 0.046\n",
      "Intercept a: 12.46\n",
      "Sigma Intercept a: 0.859\n",
      "=======================\n",
      "lag-1 Autocorr: 0.188\n",
      "Durbin-Watson Test\n",
      "d: 1.56\n",
      "=======================\n"
     ]
    },
    {
     "data": {
      "image/png": "[encoded data removed]",
      "text/plain": [
       "<Figure size 432x288 with 1 Axes>"
      ]
     },
     "metadata": {
      "needs_background": "light"
     },
     "output_type": "display_data"
    }
   ],
   "source": [
    "# Example 6.1 - A Simple Linear Regression\n",
    "\n",
    "# Table A.1 Tmin at Itacta vs. Canadaiguga in °F\n",
    "T_min_Ithc = np.array([19,25,22,-1,4,14,21,22,23,27,29,25,29,15,29,24,0,2,26,17,19,9,20,-6,\n",
    "                      -13,-13,-11,-4,-4,11,23])\n",
    "\n",
    "T_min_Cndg = np.array([28,28,26,19,16,24,26,24,24,29,29,27,31,26,38,23,13,14,28,19,19,17,\n",
    "                      22,2,4,5,7,8,14,14,23])\n",
    "\n",
    "\n",
    "#print(T_min_Cndg*T_min_Ithc)\n",
    "\n",
    "durbin_watson_test(T_min_Ithc,T_min_Cndg)"
   ]
  },
  {
   "cell_type": "code",
   "execution_count": null,
   "metadata": {},
   "outputs": [],
   "source": []
  }
 ],
 "metadata": {
  "kernelspec": {
   "display_name": "Python 3",
   "language": "python",
   "name": "python3"
  },
  "language_info": {
   "codemirror_mode": {
    "name": "ipython",
    "version": 3
   },
   "file_extension": ".py",
   "mimetype": "text/x-python",
   "name": "python",
   "nbconvert_exporter": "python",
   "pygments_lexer": "ipython3",
   "version": "3.6.12"
  }
 },
 "nbformat": 4,
 "nbformat_minor": 4
}
