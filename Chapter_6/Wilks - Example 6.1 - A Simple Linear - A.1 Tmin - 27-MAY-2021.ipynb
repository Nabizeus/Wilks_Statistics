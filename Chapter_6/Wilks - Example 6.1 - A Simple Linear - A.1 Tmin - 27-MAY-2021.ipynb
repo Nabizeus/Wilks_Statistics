{
 "cells": [
  {
   "cell_type": "code",
   "execution_count": 1,
   "metadata": {},
   "outputs": [],
   "source": [
    "import numpy as np\n",
    "import matplotlib.pyplot as plt\n",
    "from scipy import stats\n",
    "from scipy.stats import norm\n",
    "from scipy import special\n",
    "import pandas as pd"
   ]
  },
  {
   "cell_type": "code",
   "execution_count": 76,
   "metadata": {},
   "outputs": [],
   "source": [
    "def linear_regressor(vec_x,vec_y):\n",
    "\n",
    "    nx = vec_x.shape[0]\n",
    "    ny = vec_y.shape[0]\n",
    "    \n",
    "    if nx != ny:\n",
    "        print(nx,ny)\n",
    "        print('Warning: Vector X and Y have different size!')\n",
    "        \n",
    "    else:\n",
    "        print('X & Y have same size :)')\n",
    "        \n",
    "        sum_xy = np.sum(vec_x*vec_y)\n",
    "        sum_x = np.sum(vec_x)\n",
    "        sum_y = np.sum(vec_y)\n",
    "        sum_x_sq = np.sum(vec_x**2)\n",
    "        sum_dx_sq = np.sum((vec_x-np.mean(vec_x))**2)\n",
    "        b = (nx*sum_xy-sum_x*sum_y)/(nx*sum_x_sq-sum_x**2)\n",
    "        a = np.mean(vec_y)-b*np.mean(vec_x)\n",
    "        \n",
    "        y_fit = a+b*vec_x\n",
    "        sum_y_yfit_sq = np.sum((vec_y-y_fit)**2)\n",
    "        \n",
    "        s_e = np.sqrt(1/(nx-2)*sum_y_yfit_sq)\n",
    "        \n",
    "        \n",
    "        sigma_a = s_e*np.sqrt(sum_x_sq/(nx*sum_dx_sq))\n",
    "        sigma_b = s_e/np.sqrt(sum_dx_sq)\n",
    "        \n",
    "        SST = np.sum((vec_y-np.mean(vec_y))**2)\n",
    "        SSR = np.sum((y_fit-np.mean(vec_y))**2)\n",
    "        SSE = sum_y_yfit_sq\n",
    "        R_sq = SSR/SST\n",
    "        R_pearson = np.sqrt(R_sq)\n",
    "        F_test = SSR/SSE\n",
    "        t_a = a/sigma_a\n",
    "        t_b = b/sigma_b\n",
    "        print('=======================')\n",
    "        print('y = a + bx')\n",
    "        print('Slope b:',f\"{b:.3}\")\n",
    "        print('Sigma b:',f\"{sigma_b:.3}\")\n",
    "        print('Intercept a:',f\"{a:.4}\")\n",
    "        print('Sigma Intercept a:',f\"{sigma_a:.4}\")\n",
    "        print('MSE: s_e**2:',f\"{s_e**2:.4}\")\n",
    "        print('=======================')\n",
    "        print('ANOVA Table')\n",
    "        print('Total sum of sqares - SST:',f\"{SST:.3}\")\n",
    "        print('SSR:',f\"{SSR:.3}\")\n",
    "        print('SSE:',f\"{SSE:.3}\")\n",
    "        print('Coefficient of determination - R^2:',f\"{R_sq:.3}\")\n",
    "        print('Pearson correlation - R:',f\"{R_pearson:.3}\")\n",
    "        print('F ratio SSR/SSE - F:',f\"{F_test:.3}\")\n",
    "        print('t-Student ratio - a:',f\"{t_a:.3}\")\n",
    "        print('t-Student ratio - b:',f\"{t_b:.3}\")\n",
    "        print('=======================')\n",
    "        \n",
    "        #return b,a\n",
    "   \n",
    "\n"
   ]
  },
  {
   "cell_type": "code",
   "execution_count": 77,
   "metadata": {},
   "outputs": [
    {
     "name": "stdout",
     "output_type": "stream",
     "text": [
      "X & Y have same size :)\n",
      "=======================\n",
      "y = a + bx\n",
      "Slope b: 0.597\n",
      "Sigma b: 0.046\n",
      "Intercept a: 12.46\n",
      "Sigma Intercept a: 0.859\n",
      "MSE: s_e**2: 11.78\n",
      "=======================\n",
      "ANOVA Table\n",
      "Total sum of sqares - SST: 2.33e+03\n",
      "SSR: 1.99e+03\n",
      "SSE: 3.42e+02\n",
      "Coefficient of determination - R^2: 0.853\n",
      "Pearson correlation - R: 0.924\n",
      "F ratio SSR/SSE - F: 5.81\n",
      "t-Student ratio - a: 14.5\n",
      "t-Student ratio - b: 13.0\n",
      "=======================\n"
     ]
    }
   ],
   "source": [
    "# Example 6.1 - A Simple Linear Regression\n",
    "\n",
    "# Table A.1 Tmin at Itacta vs. Canadaiguga in °F\n",
    "T_min_Ithc = np.array([19,25,22,-1,4,14,21,22,23,27,29,25,29,15,29,24,0,2,26,17,19,9,20,-6,\n",
    "                      -13,-13,-11,-4,-4,11,23])\n",
    "\n",
    "T_min_Cndg = np.array([28,28,26,19,16,24,26,24,24,29,29,27,31,26,38,23,13,14,28,19,19,17,\n",
    "                      22,2,4,5,7,8,14,14,23])\n",
    "\n",
    "\n",
    "#print(T_min_Cndg*T_min_Ithc)\n",
    "\n",
    "linear_regressor(T_min_Ithc,T_min_Cndg)"
   ]
  },
  {
   "cell_type": "code",
   "execution_count": null,
   "metadata": {},
   "outputs": [],
   "source": []
  }
 ],
 "metadata": {
  "kernelspec": {
   "display_name": "Python 3",
   "language": "python",
   "name": "python3"
  },
  "language_info": {
   "codemirror_mode": {
    "name": "ipython",
    "version": 3
   },
   "file_extension": ".py",
   "mimetype": "text/x-python",
   "name": "python",
   "nbconvert_exporter": "python",
   "pygments_lexer": "ipython3",
   "version": "3.6.12"
  }
 },
 "nbformat": 4,
 "nbformat_minor": 4
}
