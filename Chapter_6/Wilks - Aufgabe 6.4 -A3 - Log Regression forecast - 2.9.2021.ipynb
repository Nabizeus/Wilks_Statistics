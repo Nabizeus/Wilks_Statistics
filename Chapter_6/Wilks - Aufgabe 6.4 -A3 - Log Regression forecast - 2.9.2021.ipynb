{
 "cells": [
  {
   "cell_type": "code",
   "execution_count": 1,
   "metadata": {},
   "outputs": [],
   "source": [
    "\n",
    "\n",
    "import numpy as np\n",
    "import matplotlib.pyplot as plt\n",
    "from scipy import stats\n",
    "from scipy.stats import norm\n",
    "from scipy import special\n",
    "import pandas as pd\n",
    "\n"
   ]
  },
  {
   "cell_type": "code",
   "execution_count": 13,
   "metadata": {},
   "outputs": [
    {
     "name": "stdout",
     "output_type": "stream",
     "text": [
      "Missing precipitation from regression  1.74 mm\n"
     ]
    }
   ],
   "source": [
    "# Exercise 6.4 \n",
    "#  The 19 nonmissing precipitation values in Table A.3. can be used to fit \n",
    "# the regression  Equation:\n",
    "# ln(Precipitation +1mm) = 499.4 -0.512 p + 0.796 T\n",
    "\n",
    "# THE MSE for this regression is 0.701. The constant 1mm has been\n",
    "# added to ensure that logarithm is defined for all data values\n",
    "# a. Estimate the missing precipitation value for 1956 using this eq\n",
    "# b. Construct a 95% confidence interval for the estimated 1956 precipitation\n",
    "\n",
    "\n",
    "# The missing precipitation value for 1956:\n",
    "\n",
    "# Table A3: p= 1011.2 and T = 24.3\n",
    "\n",
    "# Plug in these values in the regression equation\n",
    "\n",
    "precip_1956 = np.exp(499.4-0.512*1011.2+0.796*24.3)-1\n",
    "\n",
    "print('Missing precipitation from regression % .2f' % precip_1956 +' mm')\n",
    "\n",
    "\n"
   ]
  },
  {
   "cell_type": "code",
   "execution_count": 59,
   "metadata": {},
   "outputs": [
    {
     "name": "stdout",
     "output_type": "stream",
     "text": [
      "vec_ones [1. 1. 1. 1. 1. 1. 1. 1. 1. 1. 1. 1. 1. 1. 1. 1. 1. 1. 1. 1.] 20\n",
      "vec_p [1009.5, 1010.9, 1010.7, 1011.2, 1011.9, 1011.2, 1009.3, 1011.1, 1012, 1011.4, 1010.9, 1011.5, 1011, 1011.2, 1009.9, 1012.5, 1011.1, 1011.8, 1009.3, 1010.6] 20\n",
      "vec_T [26.1, 24.5, 24.8, 24.5, 24.1, 24.3, 26.4, 24.9, 23.7, 23.5, 24.0, 24.1, 23.7, 24.3, 26.6, 24.6, 24.8, 24.4, 26.8, 25.2] 20\n",
      "vec_p0T0 [1.0000e+00 1.0112e+03 2.4300e+01]\n",
      "[[1.0000e+00 1.0000e+00 1.0000e+00]\n",
      " [1.0000e+00 1.0000e+00 1.0000e+00]\n",
      " [1.0000e+00 1.0000e+00 1.0000e+00]\n",
      " [1.0000e+00 1.0000e+00 1.0000e+00]\n",
      " [1.0000e+00 1.0000e+00 1.0000e+00]\n",
      " [1.0000e+00 1.0000e+00 1.0000e+00]\n",
      " [1.0000e+00 1.0000e+00 1.0095e+03]\n",
      " [1.0109e+03 1.0107e+03 1.0112e+03]\n",
      " [1.0119e+03 1.0112e+03 1.0093e+03]\n",
      " [1.0111e+03 1.0120e+03 1.0114e+03]\n",
      " [1.0109e+03 1.0115e+03 1.0110e+03]\n",
      " [1.0112e+03 1.0099e+03 1.0125e+03]\n",
      " [1.0111e+03 1.0118e+03 1.0093e+03]\n",
      " [1.0106e+03 2.6100e+01 2.4500e+01]\n",
      " [2.4800e+01 2.4500e+01 2.4100e+01]\n",
      " [2.4300e+01 2.6400e+01 2.4900e+01]\n",
      " [2.3700e+01 2.3500e+01 2.4000e+01]\n",
      " [2.4100e+01 2.3700e+01 2.4300e+01]\n",
      " [2.6600e+01 2.4600e+01 2.4800e+01]\n",
      " [2.4400e+01 2.6800e+01 2.5200e+01]] (20, 3)\n"
     ]
    }
   ],
   "source": [
    "# b. Construct a 95% confidence interval for the estimated \n",
    "# 1956 precipitation with MSE 0.701\n",
    "\n",
    "# uncertainty of y given x0 for regression:\n",
    "# S^2 (y|x_0)= S_e^2/n+S_e^2*S^2_slope\n",
    "# S^2_slope = (x_0-mean_x)^2/Sum_i(x_i-x_mean)^2\n",
    "\n",
    "# The variance for the sampling distribution of the regression function\n",
    "# or equivalently the variance of the conditional mean of the\n",
    "# predictand given a particular predictor value x_0, is\n",
    "\n",
    "# I use the simple approach, first co\n",
    "\n",
    "# For multi regression with 2 predictors, then:\n",
    "\n",
    "#vector_s^2(y|p_0,T_0) = S_e^2 * (vec_x_0)^T(X^T*X)^-1 *vec_x_0\n",
    "\n",
    "# s_e^2=0.701\n",
    "# 1956 vec_x_0 = (1011.2,24.3)\n",
    "# X_matrix = [1 p_1 T_1, 1 p_2 T_2,...,p_1970 T_1970]\n",
    "\n",
    "vec_p = ([1009.5,1010.9,1010.7,1011.2,1011.9,1011.2,1009.3,\n",
    "        1011.1,1012,1011.4,1010.9,1011.5,1011,1011.2,1009.9,\n",
    "        1012.5,1011.1,1011.8,1009.3,1010.6])\n",
    "vec_T = ([26.1,24.5,24.8,24.5,24.1,24.3,26.4,24.9,23.7,23.5,24.0,\n",
    "         24.1,23.7,24.3,26.6,24.6,24.8,24.4,26.8,25.2])\n",
    "\n",
    "vec_p0T0 = np.array([1,1011.2,24.3])\n",
    "vec_ones = np.ones(20)\n",
    "\n",
    "print('vec_ones',vec_ones,len(vec_ones))\n",
    "print('vec_p',vec_p,len(vec_p))\n",
    "print('vec_T',vec_T,len(vec_T))\n",
    "print('vec_p0T0',vec_p0T0)\n",
    "\n",
    "\n",
    "matrix_X = np.array([vec_ones,vec_p,vec_T]).reshape(20,3)\n",
    "print(matrix_X,matrix_X.shape)"
   ]
  },
  {
   "cell_type": "code",
   "execution_count": 47,
   "metadata": {},
   "outputs": [
    {
     "name": "stdout",
     "output_type": "stream",
     "text": [
      "[[1.0000e+00 1.0000e+00 1.0000e+00 1.0000e+00 1.0000e+00 1.0000e+00\n",
      "  1.0000e+00 1.0109e+03 1.0119e+03 1.0111e+03 1.0109e+03 1.0112e+03\n",
      "  1.0111e+03 1.0106e+03 2.4800e+01 2.4300e+01 2.3700e+01 2.4100e+01\n",
      "  2.6600e+01 2.4400e+01]\n",
      " [1.0000e+00 1.0000e+00 1.0000e+00 1.0000e+00 1.0000e+00 1.0000e+00\n",
      "  1.0000e+00 1.0107e+03 1.0112e+03 1.0120e+03 1.0115e+03 1.0099e+03\n",
      "  1.0118e+03 2.6100e+01 2.4500e+01 2.6400e+01 2.3500e+01 2.3700e+01\n",
      "  2.4600e+01 2.6800e+01]\n",
      " [1.0000e+00 1.0000e+00 1.0000e+00 1.0000e+00 1.0000e+00 1.0000e+00\n",
      "  1.0095e+03 1.0112e+03 1.0093e+03 1.0114e+03 1.0110e+03 1.0125e+03\n",
      "  1.0093e+03 2.4500e+01 2.4100e+01 2.4900e+01 2.4000e+01 2.4300e+01\n",
      "  2.4800e+01 2.5200e+01]]\n"
     ]
    }
   ],
   "source": []
  },
  {
   "cell_type": "code",
   "execution_count": 48,
   "metadata": {},
   "outputs": [
    {
     "name": "stdout",
     "output_type": "stream",
     "text": [
      "matrix_X_T [[1.0000e+00 1.0000e+00 1.0000e+00 1.0000e+00 1.0000e+00 1.0000e+00\n",
      "  1.0000e+00 1.0109e+03 1.0119e+03 1.0111e+03 1.0109e+03 1.0112e+03\n",
      "  1.0111e+03 1.0106e+03 2.4800e+01 2.4300e+01 2.3700e+01 2.4100e+01\n",
      "  2.6600e+01 2.4400e+01]\n",
      " [1.0000e+00 1.0000e+00 1.0000e+00 1.0000e+00 1.0000e+00 1.0000e+00\n",
      "  1.0000e+00 1.0107e+03 1.0112e+03 1.0120e+03 1.0115e+03 1.0099e+03\n",
      "  1.0118e+03 2.6100e+01 2.4500e+01 2.6400e+01 2.3500e+01 2.3700e+01\n",
      "  2.4600e+01 2.6800e+01]\n",
      " [1.0000e+00 1.0000e+00 1.0000e+00 1.0000e+00 1.0000e+00 1.0000e+00\n",
      "  1.0095e+03 1.0112e+03 1.0093e+03 1.0114e+03 1.0110e+03 1.0125e+03\n",
      "  1.0093e+03 2.4500e+01 2.4100e+01 2.4900e+01 2.4000e+01 2.4300e+01\n",
      "  2.4800e+01 2.5200e+01]]\n",
      "Shape of transposed Matrix (3, 20)\n",
      "Shape of X_T*X (3, 3)\n"
     ]
    }
   ],
   "source": [
    "#from numpy import matmul\n",
    "matrix_X_T = np.transpose(matrix_X)\n",
    "print('matrix_X_T',matrix_X_T)\n",
    "print('Shape of transposed Matrix',matrix_X_T.shape)\n",
    "matmul_X= np.matmul(matrix_X_T,matrix_X)\n",
    "print('Shape of X_T*X',matmul_X.shape)"
   ]
  },
  {
   "cell_type": "code",
   "execution_count": 44,
   "metadata": {},
   "outputs": [
    {
     "data": {
      "text/plain": [
       "(3, 3)"
      ]
     },
     "execution_count": 44,
     "metadata": {},
     "output_type": "execute_result"
    }
   ],
   "source": [
    "matmul_X.shape"
   ]
  },
  {
   "cell_type": "code",
   "execution_count": null,
   "metadata": {},
   "outputs": [],
   "source": []
  },
  {
   "cell_type": "code",
   "execution_count": 49,
   "metadata": {},
   "outputs": [
    {
     "data": {
      "text/plain": [
       "(3, 3)"
      ]
     },
     "execution_count": 49,
     "metadata": {},
     "output_type": "execute_result"
    }
   ],
   "source": [
    "from numpy.linalg import inv\n",
    "\n",
    "a = np.array([[1,2],[3,4]])\n",
    "ainv = inv(a)\n",
    "\n",
    "inv_X = inv(matmul_X)\n",
    "\n",
    "inv_X.shape"
   ]
  },
  {
   "cell_type": "code",
   "execution_count": 89,
   "metadata": {},
   "outputs": [
    {
     "name": "stdout",
     "output_type": "stream",
     "text": [
      "multiply(a,b) [2. 2. 2.]\n",
      "matmul(a,b) 6.0\n",
      "dot(a,b) 6.0\n"
     ]
    },
    {
     "data": {
      "text/plain": [
       "array([-5.13654114e-04,  1.08451656e+00, -1.15696383e-02])"
      ]
     },
     "execution_count": 89,
     "metadata": {},
     "output_type": "execute_result"
    }
   ],
   "source": [
    "# multiply(): element-wise matrix multiplication - a#b? Dyadisch.\n",
    "# matmul(): matrix product of two arrays - Matrix Produkt\n",
    "# dot(): Dot product of two arrays - Skalar produkt\n",
    "\n",
    "a = 2*np.ones((3))\n",
    "b = np.ones((3))\n",
    "\n",
    "print('multiply(a,b)',np.multiply(a,b))\n",
    "print('matmul(a,b)',np.matmul(a,b))\n",
    "print('dot(a,b)',np.dot(a,b))\n",
    "#print(vec_p0T0.shape)\n",
    "#print(inv_X.shape)\n",
    "\n",
    "var_y_x0=matmul(inv_X,vec_p0T0)\n",
    "(0.7**2*np.multiply(vec_p0T0,var_y_x0))"
   ]
  },
  {
   "cell_type": "code",
   "execution_count": null,
   "metadata": {},
   "outputs": [],
   "source": []
  }
 ],
 "metadata": {
  "kernelspec": {
   "display_name": "Python 3",
   "language": "python",
   "name": "python3"
  },
  "language_info": {
   "codemirror_mode": {
    "name": "ipython",
    "version": 3
   },
   "file_extension": ".py",
   "mimetype": "text/x-python",
   "name": "python",
   "nbconvert_exporter": "python",
   "pygments_lexer": "ipython3",
   "version": "3.6.12"
  }
 },
 "nbformat": 4,
 "nbformat_minor": 5
}
