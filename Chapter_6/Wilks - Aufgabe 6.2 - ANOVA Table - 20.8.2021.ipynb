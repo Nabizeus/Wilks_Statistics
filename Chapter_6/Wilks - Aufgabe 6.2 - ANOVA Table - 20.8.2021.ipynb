{
 "cells": [
  {
   "cell_type": "code",
   "execution_count": 1,
   "id": "cc9ddabc",
   "metadata": {},
   "outputs": [],
   "source": [
    "\n",
    "\n",
    "import numpy as np\n",
    "import matplotlib.pyplot as plt\n",
    "from scipy import stats\n",
    "from scipy.stats import norm\n",
    "from scipy import special\n",
    "import pandas as pd\n",
    "\n"
   ]
  },
  {
   "cell_type": "code",
   "execution_count": 45,
   "id": "dfa6be11",
   "metadata": {},
   "outputs": [],
   "source": []
  },
  {
   "cell_type": "code",
   "execution_count": 2,
   "id": "a938eb04",
   "metadata": {},
   "outputs": [
    {
     "name": "stdout",
     "output_type": "stream",
     "text": [
      "z-score cumulative probability: 0.7161454169013237\n"
     ]
    }
   ],
   "source": [
    "# Exercise 6.2 - ANOVA TAble\n",
    "\n",
    "# Consider the following table\n",
    "\n",
    "# Sourc  df SS(Sum of Squares) MS (Mean square) F(MSR/MSE)\n",
    "# Tot 23  2711.60 \n",
    "# Regression 3 2641.59 880.53 251.55\n",
    "# Residual 20 70 3.5\n",
    "\n",
    "# a. How many predictor variables are in the equation\n",
    "# b. What is the sample variance of the predictand?\n",
    "# c. What is R2 value?\n",
    "# d. Estimate p that a pred made by this reg will be within ±2 units of value\n",
    "\n",
    "\n",
    "# a: df = n-1 = 23 of Total. Of Regression of df=3 means 3 predictors (multivariate)\n",
    "# b: Sample variance of predictand is SST = 2711.60/23=117\n",
    "# c: R^2 = SSR/SST = 2641.59/2711.60 = 0.97 Pearson Corr r=0.98\n",
    "# d: p = cdf(z=2/sigma) , sigma = MSE = 3.5\n",
    "\n",
    "# p(Z=2) = st.norm.cdf(z) ---> 71.6%\n",
    "z=2/3.5\n",
    "import scipy.stats as st\n",
    "print('z-score cumulative probability:',st.norm.cdf(z))\n"
   ]
  },
  {
   "cell_type": "code",
   "execution_count": 48,
   "id": "b32d800a",
   "metadata": {},
   "outputs": [
    {
     "name": "stdout",
     "output_type": "stream",
     "text": [
      "z-score cumulative probability: 0.9380320971636288\n",
      "z-score cumulative probability: 0.9629272344442965\n"
     ]
    }
   ],
   "source": [
    "# The physical meaning? \n",
    "# Low pressure systems  due to heating of the\n",
    "# surface and ascending air...\n",
    "# c. Test that the fitted slope is different from zero.\n",
    "\n",
    "# Slope-0/Sigma(Slope) as t-Statistics?\n",
    "\n",
    "# t-Student ratio is -6.32 99.99% highly signficiant\n",
    "# d. R^2 statistics = 0.69 \n",
    "# e. Probability that 1° at 1013 mb? z=1°C/sigma_y_fit(x_zero)=1.53\n",
    "# p(Z=1.53) = st.norm.cdf(z)\n",
    "z=1/0.65\n",
    "import scipy.stats as st\n",
    "print('z-score cumulative probability:',st.norm.cdf(z))\n",
    "\n",
    "\n",
    "# p is 94%\n",
    "\n",
    "# f. Assume prediction variance is MSE= 0.314\n",
    "z = 2/0.56\n",
    "print('z-score cumulative probability:',st.norm.cdf(z))\n",
    "\n",
    "# p is 96%"
   ]
  },
  {
   "cell_type": "code",
   "execution_count": null,
   "id": "4c458e29",
   "metadata": {},
   "outputs": [],
   "source": []
  }
 ],
 "metadata": {
  "kernelspec": {
   "display_name": "Python 3 (ipykernel)",
   "language": "python",
   "name": "python3"
  },
  "language_info": {
   "codemirror_mode": {
    "name": "ipython",
    "version": 3
   },
   "file_extension": ".py",
   "mimetype": "text/x-python",
   "name": "python",
   "nbconvert_exporter": "python",
   "pygments_lexer": "ipython3",
   "version": "3.9.6"
  }
 },
 "nbformat": 4,
 "nbformat_minor": 5
}
