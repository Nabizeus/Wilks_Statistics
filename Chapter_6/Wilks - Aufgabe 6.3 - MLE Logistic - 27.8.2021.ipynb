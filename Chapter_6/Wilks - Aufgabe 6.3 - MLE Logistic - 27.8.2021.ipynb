{
 "cells": [
  {
   "cell_type": "code",
   "execution_count": 1,
   "id": "cc9ddabc",
   "metadata": {},
   "outputs": [],
   "source": [
    "\n",
    "\n",
    "import numpy as np\n",
    "import matplotlib.pyplot as plt\n",
    "from scipy import stats\n",
    "from scipy.stats import norm\n",
    "from scipy import special\n",
    "import pandas as pd\n",
    "\n"
   ]
  },
  {
   "cell_type": "code",
   "execution_count": 45,
   "id": "dfa6be11",
   "metadata": {},
   "outputs": [],
   "source": [
    "# Exercise 6.3 \n",
    "# Derive an expression for the maximum likelihood estimate of the intercept\n",
    "# b0 in logistic regression (Eq 6.27), for the constant model in which\n",
    "# b1=b2=-...=bk=0\n",
    "\n",
    "# Chapter 6.3 - Nonlinear Regression - Logistic Regression\n",
    "# REEP - Regresssion Estimation of Event Prob\n",
    "\n",
    "# The Likelihood Equation should be Lambda=Product(y_i*exp(b0..)+(1-yi)/(1+exp(bo...)))\n",
    "\n",
    "# The Log-likelihood:\n",
    "\n",
    "# L(b) = ln(Lambda) = Sum(yi(b0...)) - ln(1+exp(bo...))\n",
    "\n",
    "# MLE for logistic at b_0 = ln(Sum(y)(1-Sum(y)))\n",
    "\n",
    "\n"
   ]
  },
  {
   "cell_type": "code",
   "execution_count": null,
   "id": "4c458e29",
   "metadata": {},
   "outputs": [],
   "source": []
  }
 ],
 "metadata": {
  "kernelspec": {
   "display_name": "Python 3 (ipykernel)",
   "language": "python",
   "name": "python3"
  },
  "language_info": {
   "codemirror_mode": {
    "name": "ipython",
    "version": 3
   },
   "file_extension": ".py",
   "mimetype": "text/x-python",
   "name": "python",
   "nbconvert_exporter": "python",
   "pygments_lexer": "ipython3",
   "version": "3.9.6"
  }
 },
 "nbformat": 4,
 "nbformat_minor": 5
}
