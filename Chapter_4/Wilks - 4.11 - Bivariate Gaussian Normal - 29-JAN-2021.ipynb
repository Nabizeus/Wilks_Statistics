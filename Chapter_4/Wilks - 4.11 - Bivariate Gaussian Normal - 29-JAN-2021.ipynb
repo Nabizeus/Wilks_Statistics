{
 "cells": [
  {
   "cell_type": "code",
   "execution_count": 3,
   "metadata": {},
   "outputs": [],
   "source": [
    "import numpy as np\n",
    "import pandas as pd\n",
    "import netCDF4 as nc\n",
    "import matplotlib.pyplot as plt\n",
    "from scipy import stats\n",
    "from scipy.stats import norm\n"
   ]
  },
  {
   "cell_type": "code",
   "execution_count": 32,
   "metadata": {},
   "outputs": [
    {
     "name": "stdout",
     "output_type": "stream",
     "text": [
      "(31,)\n",
      "(31,)\n"
     ]
    }
   ],
   "source": [
    "m1 = np.array([34,36,30,29,30,35,44,38,31,33,39,33,34,39,51,44,25,34,36,29,27,29,27,24,11,21,19,26,28,31,38]) # Canandaigua T max\n",
    "m2 = np.array([28,28,26,19,16,24,26,24,24,29,29,27,31,26,38,23,13,14,28,19,19,17,22,2,4,5,7,8,14,14,23]) # T min\n",
    "\n",
    "print(m1.shape)\n",
    "print(m2.shape)"
   ]
  },
  {
   "cell_type": "code",
   "execution_count": 33,
   "metadata": {},
   "outputs": [
    {
     "name": "stdout",
     "output_type": "stream",
     "text": [
      "Raw Data Tmax: [34 36 30 29 30 35 44 38 31 33 39 33 34 39 51 44 25 34 36 29 27 29 27 24\n",
      " 11 21 19 26 28 31 38]\n",
      "Mean of Raw Data Tmax: 31.774193548387096\n",
      "Stdev of Raw Data Tmax: 7.736422768493305\n",
      "Raw Data Tmin: [28 28 26 19 16 24 26 24 24 29 29 27 31 26 38 23 13 14 28 19 19 17 22  2\n",
      "  4  5  7  8 14 14 23]\n",
      "Mean of Raw Data Tmin: 20.225806451612904\n",
      "Stdev of Raw Data Tmin: 8.664758721653737\n",
      "Correlation rho_Tmax_Tmin: 0.8101688894741575\n"
     ]
    }
   ],
   "source": [
    "\n",
    "\n",
    "mean_data_x=np.mean(m1)\n",
    "standard_dev_data_x=np.std(m1)\n",
    "\n",
    "mean_data_y=np.mean(m2)\n",
    "standard_dev_data_y=np.std(m2)\n",
    "\n",
    "rho_x_y = np.corrcoef(m1,m2)\n",
    "\n",
    "print('Raw Data Tmax:', m1)\n",
    "print('Mean of Raw Data Tmax:', mean_data_x)\n",
    "print('Stdev of Raw Data Tmax:', standard_dev_data_x)\n",
    "\n",
    "print('Raw Data Tmin:', m2)\n",
    "print('Mean of Raw Data Tmin:', mean_data_y)\n",
    "print('Stdev of Raw Data Tmin:', standard_dev_data_y)\n",
    "\n",
    "print('Correlation rho_Tmax_Tmin:', rho_x_y[0,1])\n",
    "\n",
    "#z = (20 - mean_data) / standard_dev_data\n",
    "\n",
    "#print('20° z-score:', z)\n",
    "\n",
    "# We'll bring in scipy to do the calculation of probability from the Z-table\n",
    "import scipy.stats as st\n",
    "#print('z-score cumulative probability:',st.norm.cdf(z))\n",
    "\n",
    "# We need the probability from the right side, so we'll flip it!\n",
    "#print('P value right side of Z: P(z>Z): 1-(cumulative probability of z-score):',1 - st.norm.cdf(z))"
   ]
  },
  {
   "cell_type": "code",
   "execution_count": 34,
   "metadata": {},
   "outputs": [
    {
     "name": "stdout",
     "output_type": "stream",
     "text": [
      "Conditional mean of T_max: 17.143492723492727\n",
      "Conditional sigma of T_max: 4.535064173216756\n"
     ]
    }
   ],
   "source": [
    "mean_x_cond_y = mean_data_x+rho_x_y[0,1]*standard_dev_data_x*(0-mean_data_y)/standard_dev_data_y\n",
    "std_x_cond_y = standard_dev_data_x*np.sqrt(1-rho_x_y[0,1]**2)\n",
    "\n",
    "print('Conditional mean of T_max:',mean_x_cond_y)\n",
    "print('Conditional sigma of T_max:',std_x_cond_y)\n"
   ]
  },
  {
   "cell_type": "code",
   "execution_count": 1,
   "metadata": {},
   "outputs": [
    {
     "ename": "NameError",
     "evalue": "name 'np' is not defined",
     "output_type": "error",
     "traceback": [
      "\u001b[0;31m---------------------------------------------------------------------------\u001b[0m",
      "\u001b[0;31mNameError\u001b[0m                                 Traceback (most recent call last)",
      "\u001b[0;32m<ipython-input-1-0a1aed732a4e>\u001b[0m in \u001b[0;36m<module>\u001b[0;34m\u001b[0m\n\u001b[0;32m----> 1\u001b[0;31m \u001b[0mx\u001b[0m \u001b[0;34m=\u001b[0m \u001b[0mnp\u001b[0m\u001b[0;34m.\u001b[0m\u001b[0mlinspace\u001b[0m\u001b[0;34m(\u001b[0m\u001b[0;36m0\u001b[0m\u001b[0;34m,\u001b[0m \u001b[0;36m40\u001b[0m\u001b[0;34m)\u001b[0m\u001b[0;34m\u001b[0m\u001b[0;34m\u001b[0m\u001b[0m\n\u001b[0m\u001b[1;32m      2\u001b[0m \u001b[0my\u001b[0m \u001b[0;34m=\u001b[0m \u001b[0mnorm\u001b[0m\u001b[0;34m.\u001b[0m\u001b[0mpdf\u001b[0m\u001b[0;34m(\u001b[0m\u001b[0mx\u001b[0m\u001b[0;34m,\u001b[0m \u001b[0mmean_lanina\u001b[0m\u001b[0;34m,\u001b[0m \u001b[0mstd_lanina\u001b[0m\u001b[0;34m)\u001b[0m\u001b[0;34m\u001b[0m\u001b[0;34m\u001b[0m\u001b[0m\n\u001b[1;32m      3\u001b[0m \u001b[0mplt\u001b[0m\u001b[0;34m.\u001b[0m\u001b[0mplot\u001b[0m\u001b[0;34m(\u001b[0m\u001b[0mx\u001b[0m\u001b[0;34m,\u001b[0m\u001b[0my\u001b[0m\u001b[0;34m)\u001b[0m\u001b[0;34m\u001b[0m\u001b[0;34m\u001b[0m\u001b[0m\n",
      "\u001b[0;31mNameError\u001b[0m: name 'np' is not defined"
     ]
    }
   ],
   "source": [
    "x = np.linspace(0, 40)\n",
    "y = norm.pdf(x, mean_lanina, std_lanina)\n",
    "plt.plot(x,y)"
   ]
  },
  {
   "cell_type": "code",
   "execution_count": 36,
   "metadata": {},
   "outputs": [
    {
     "name": "stdout",
     "output_type": "stream",
     "text": [
      "20 F z-score: 0.6298714124878921\n",
      "z-score cumulative probability: 0.735610640964895\n",
      "Cumulative P(z>Z): 1-(cumulative probability of z-score): 0.26438935903510496\n"
     ]
    }
   ],
   "source": [
    "z = (20 - mean_x_cond_y) / std_x_cond_y\n",
    "\n",
    "print('20 F z-score:', z)\n",
    "\n",
    "# We'll bring in scipy to do the calculation of probability from the Z-table\n",
    "\n",
    "print('z-score cumulative probability:',stats.norm.cdf(z))\n",
    "\n",
    "# We need the probability from the right side, so we'll flip it!\n",
    "print('Cumulative P(z>Z): 1-(cumulative probability of z-score):',1 - stats.norm.cdf(z))"
   ]
  },
  {
   "cell_type": "code",
   "execution_count": null,
   "metadata": {},
   "outputs": [],
   "source": []
  }
 ],
 "metadata": {
  "kernelspec": {
   "display_name": "Python 3",
   "language": "python",
   "name": "python3"
  },
  "language_info": {
   "codemirror_mode": {
    "name": "ipython",
    "version": 3
   },
   "file_extension": ".py",
   "mimetype": "text/x-python",
   "name": "python",
   "nbconvert_exporter": "python",
   "pygments_lexer": "ipython3",
   "version": "3.6.12"
  }
 },
 "nbformat": 4,
 "nbformat_minor": 4
}
