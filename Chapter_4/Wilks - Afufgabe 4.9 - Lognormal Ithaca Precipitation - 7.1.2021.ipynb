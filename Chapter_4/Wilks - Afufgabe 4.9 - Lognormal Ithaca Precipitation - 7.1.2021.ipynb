{
 "cells": [
  {
   "cell_type": "code",
   "execution_count": 1,
   "metadata": {},
   "outputs": [
    {
     "name": "stdout",
     "output_type": "stream",
     "text": [
      "Raw Data: [4.17 5.61 3.88 1.55 2.3  5.58 5.58 5.14 4.52 1.53 4.24 1.18 3.17 4.72\n",
      " 2.17 2.17 3.94 0.95 1.48 5.68 4.25 3.66 2.12 1.24 3.64 8.44 5.2  2.33\n",
      " 2.18 3.43]\n",
      "Logarithmic transformation of Raw Data: [ 1.42791604  1.72455072  1.35583515  0.43825493  0.83290912  1.71918878\n",
      "  1.71918878  1.63705308  1.50851199  0.42526774  1.44456327  0.16551444\n",
      "  1.15373159  1.5518088   0.77472717  0.77472717  1.37118072 -0.05129329\n",
      "  0.39204209  1.73695123  1.44691898  1.29746315  0.75141609  0.21511138\n",
      "  1.29198368  2.13298231  1.64865863  0.84586827  0.77932488  1.23256026]\n",
      "Mean of Log of Raw Data: 1.1248305708047923\n",
      "Std of Log of Raw Data: 0.5508023439890603\n",
      "Median of Log of Raw Data: 1.2947234145309623\n"
     ]
    }
   ],
   "source": [
    "%matplotlib inline\n",
    "import matplotlib.pyplot as plt\n",
    "plt.style.use('classic')\n",
    "from scipy.stats import norm\n",
    "from scipy import special\n",
    "import numpy as np\n",
    "\n",
    "\n",
    "# Ithaca July precipitation data from Wilks, Newyork, 1951-1980 (inches)\n",
    "data_series = np.array([4.17,5.61,3.88,1.55,2.30,5.58,5.58,5.14,4.52,1.53,4.24,1.18,3.17,\n",
    "        4.72,2.17,2.17,3.94,0.95,1.48,5.68,4.25,3.66,2.12,1.24,3.64,8.44,5.20,2.33,2.18,3.43])\n",
    "years = np.arange(1951,1981,1)\n",
    "\n",
    "log_data=np.log(data_series)\n",
    "mean_log_data=np.mean(log_data)\n",
    "standard_dev_log_data=np.std(log_data)\n",
    "median_log_data=np.median(log_data)\n",
    "\n",
    "\n",
    "print('Raw Data:', (data_series))\n",
    "print('Logarithmic transformation of Raw Data:', log_data)\n",
    "print('Mean of Log of Raw Data:', np.mean(log_data))\n",
    "print('Std of Log of Raw Data:', np.std(log_data))\n",
    "print('Median of Log of Raw Data:', np.median(log_data))\n"
   ]
  },
  {
   "cell_type": "code",
   "execution_count": 2,
   "metadata": {},
   "outputs": [],
   "source": [
    "import statistics as stat"
   ]
  },
  {
   "cell_type": "code",
   "execution_count": 4,
   "metadata": {},
   "outputs": [
    {
     "name": "stdout",
     "output_type": "stream",
     "text": [
      "1.1248305708047925\n"
     ]
    }
   ],
   "source": [
    "print(stat.mean(log_data))"
   ]
  },
  {
   "cell_type": "code",
   "execution_count": 13,
   "metadata": {},
   "outputs": [
    {
     "data": {
      "text/plain": [
       "(array([ 3.,  3.,  6.,  6., 11.,  1.]),\n",
       " array([-0.05129329,  0.31275264,  0.67679857,  1.04084451,  1.40489044,\n",
       "         1.76893637,  2.13298231]),\n",
       " <BarContainer object of 6 artists>)"
      ]
     },
     "execution_count": 13,
     "metadata": {},
     "output_type": "execute_result"
    },
    {
     "data": {
      "image/png": "[encoded data removed]",
      "text/plain": [
       "<Figure size 640x480 with 1 Axes>"
      ]
     },
     "metadata": {},
     "output_type": "display_data"
    }
   ],
   "source": [
    "plt.hist(log_data,bins=6)\n",
    "plt.hist(log_data,bins=6)"
   ]
  },
  {
   "cell_type": "code",
   "execution_count": null,
   "metadata": {},
   "outputs": [],
   "source": []
  }
 ],
 "metadata": {
  "kernelspec": {
   "display_name": "Python 3",
   "language": "python",
   "name": "python3"
  },
  "language_info": {
   "codemirror_mode": {
    "name": "ipython",
    "version": 3
   },
   "file_extension": ".py",
   "mimetype": "text/x-python",
   "name": "python",
   "nbconvert_exporter": "python",
   "pygments_lexer": "ipython3",
   "version": "3.6.12"
  }
 },
 "nbformat": 4,
 "nbformat_minor": 2
}
